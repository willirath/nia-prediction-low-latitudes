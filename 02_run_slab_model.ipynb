{
 "cells": [
  {
   "cell_type": "markdown",
   "metadata": {},
   "source": [
    "# Run the slab model"
   ]
  },
  {
   "cell_type": "markdown",
   "metadata": {},
   "source": [
    "## Parameters"
   ]
  },
  {
   "cell_type": "code",
   "execution_count": null,
   "metadata": {},
   "outputs": [],
   "source": [
    "# parameters\n",
    "\n",
    "GFS_zarr_store = \"tmp_GFS.zarr\"\n",
    "slab_zarr_store = \"tmp_slab.zarr\"\n",
    "\n",
    "dask_kwargs = {\"n_workers\": 1, \"threads_per_worker\": 2, \"memory_limit\": 6e9}"
   ]
  },
  {
   "cell_type": "markdown",
   "metadata": {},
   "source": [
    "## Tech preamble\n",
    "\n",
    "Import modules and spin up Dask cluster."
   ]
  },
  {
   "cell_type": "code",
   "execution_count": null,
   "metadata": {},
   "outputs": [],
   "source": [
    "import xarray as xr\n",
    "from datetime import datetime, timedelta\n",
    "from dask.distributed import Client\n",
    "import hvplot.xarray\n",
    "from pathlib import Path"
   ]
  },
  {
   "cell_type": "markdown",
   "metadata": {},
   "source": [
    "The memory requirements of the integration are currently relatively high. So we'll go for one single-threaded Worker with enough memory.\n",
    "\n",
    "If we'll do this with Github Actions, there will be a total of [6GB memory](https://docs.github.com/en/actions/reference/virtual-environments-for-github-hosted-runners#supported-runners-and-hardware-resources) for all we do. So let's stay below this even in development."
   ]
  },
  {
   "cell_type": "code",
   "execution_count": null,
   "metadata": {},
   "outputs": [],
   "source": [
    "client = Client(**dask_kwargs)\n",
    "client"
   ]
  },
  {
   "cell_type": "markdown",
   "metadata": {},
   "source": [
    "## Loading the data"
   ]
  },
  {
   "cell_type": "code",
   "execution_count": null,
   "metadata": {},
   "outputs": [],
   "source": [
    "ds = xr.open_zarr(GFS_zarr_store)"
   ]
  },
  {
   "cell_type": "markdown",
   "metadata": {},
   "source": [
    "## Slab model"
   ]
  },
  {
   "cell_type": "code",
   "execution_count": null,
   "metadata": {},
   "outputs": [],
   "source": [
    "import numpy as np"
   ]
  },
  {
   "cell_type": "code",
   "execution_count": null,
   "metadata": {},
   "outputs": [],
   "source": [
    "def upsample_data(data_obj, time_delta_ns=3600.0e9, time_name=\"time\"):\n",
    "    data_obj.coords[time_name] = data_obj.coords[time_name].astype(\"float\")\n",
    "    data_obj = data_obj.interp(\n",
    "        time=np.arange(data_obj.coords[time_name][0],\n",
    "                       data_obj.coords[time_name][-1],\n",
    "                       time_delta_ns),\n",
    "        method=\"slinear\")\n",
    "    data_obj.coords[time_name] = data_obj.coords[time_name].astype(\"datetime64[ns]\")\n",
    "\n",
    "    return data_obj"
   ]
  },
  {
   "cell_type": "code",
   "execution_count": null,
   "metadata": {},
   "outputs": [],
   "source": [
    "taux = upsample_data(ds[\"taux\"])\n",
    "tauy = upsample_data(ds[\"tauy\"])"
   ]
  },
  {
   "cell_type": "code",
   "execution_count": null,
   "metadata": {},
   "outputs": [],
   "source": [
    "taux.nbytes / 1e6"
   ]
  },
  {
   "cell_type": "code",
   "execution_count": null,
   "metadata": {},
   "outputs": [],
   "source": [
    "def filter_windstress(taux, tauy):\n",
    "\n",
    "    # we need a uniform time step\n",
    "    assert taux.time.diff(\"time\").astype(\"float\").std(\"time\") / 1e9 < 1e-4\n",
    "    dt = (taux.time.diff(\"time\").astype(\"float\").mean(\"time\") / 1e9).data  # ns --> s\n",
    "    epsilon = 1 / 5 / 24 / 3600\n",
    "    f = 2 * 7.2921e-5 * np.sin(np.deg2rad(taux.coords[\"lat\"]))\n",
    "    rho = 1035\n",
    "    H = 20\n",
    "\n",
    "    c_2 = 2 * dt / rho / H\n",
    "    d_1 = - 2j * dt * f\n",
    "    d_2 = 1 - 2 * dt * epsilon\n",
    "\n",
    "    T = taux.astype(\"float32\") + 1j * tauy.astype(\"float32\")\n",
    "    T = xr.where(~T.isnull(), T, 0)\n",
    "\n",
    "    import numba\n",
    "\n",
    "    @numba.jit\n",
    "    def integrate(T, d_1):\n",
    "        q = np.zeros_like(T)\n",
    "        for l in range(2, T.shape[0]):\n",
    "            q[l, ...] = (d_2 * q[l-2, ...] + \n",
    "                         d_1[l-1, ...] * q[l-1, ...] + \n",
    "                         c_2 * T[l-2, ...])\n",
    "        return q\n",
    "\n",
    "    q = xr.apply_ufunc(integrate, T, d_1 + 0.0 * T,\n",
    "                       vectorize=True,\n",
    "                       input_core_dims=[['time'], ['time']],\n",
    "                       output_core_dims=[['time']],\n",
    "                       output_dtypes=[np.complex],\n",
    "                       dask='parallelized')\n",
    "    q = q.where(xr.ufuncs.logical_not(T == 0))\n",
    "        \n",
    "    slab_u = xr.ufuncs.real(q).astype(\"float32\")\n",
    "    slab_v = xr.ufuncs.imag(q).astype(\"float32\")\n",
    "    \n",
    "    slab_u = slab_u.rename(\"slab_u\")\n",
    "    slab_v = slab_v.rename(\"slab_v\")\n",
    "    \n",
    "    slab_umag = (slab_u**2 + slab_v**2)**0.5\n",
    "    slab_umag = slab_umag.rename(\"slab_umag\")\n",
    "\n",
    "    return slab_u, slab_v, slab_umag"
   ]
  },
  {
   "cell_type": "code",
   "execution_count": null,
   "metadata": {},
   "outputs": [],
   "source": [
    "ds_slab = xr.Dataset()\n",
    "ds_slab[\"u_slab\"], ds_slab[\"v_slab\"], ds_slab[\"umag_slab\"] = filter_windstress(taux, tauy)\n",
    "ds_slab = ds_slab.sel(time=ds.time, method=\"nearest\")\n",
    "ds_slab"
   ]
  },
  {
   "cell_type": "code",
   "execution_count": null,
   "metadata": {},
   "outputs": [],
   "source": [
    "%%time\n",
    "\n",
    "ds_slab.to_zarr(slab_zarr_store, mode=\"w\")"
   ]
  },
  {
   "cell_type": "code",
   "execution_count": null,
   "metadata": {},
   "outputs": [],
   "source": [
    "ds_slab = xr.open_zarr(slab_zarr_store)"
   ]
  },
  {
   "cell_type": "code",
   "execution_count": null,
   "metadata": {},
   "outputs": [],
   "source": [
    "(\n",
    "    ds[\"taux\"].sel(lon=360-23, lat=12, method=\"nearest\").hvplot.line(label=\"taux\")\n",
    "    * ds[\"tauy\"].sel(lon=360-23, lat=12, method=\"nearest\").hvplot.line(label=\"tauy\")\n",
    "    + ds_slab[\"umag_slab\"].sel(lon=360-23, lat=12, method=\"nearest\").hvplot.line(label=\"NIA\")\n",
    ").cols(1)"
   ]
  },
  {
   "cell_type": "code",
   "execution_count": null,
   "metadata": {},
   "outputs": [],
   "source": [
    "!echo \"Finished: $(date -Ins)\""
   ]
  },
  {
   "cell_type": "markdown",
   "metadata": {},
   "source": [
    "---\n",
    "See https://github.com/willirath/nia-prediction-low-latitutdes for details."
   ]
  }
 ],
 "metadata": {
  "kernelspec": {
   "display_name": "Python 3",
   "language": "python",
   "name": "python3"
  },
  "language_info": {
   "codemirror_mode": {
    "name": "ipython",
    "version": 3
   },
   "file_extension": ".py",
   "mimetype": "text/x-python",
   "name": "python",
   "nbconvert_exporter": "python",
   "pygments_lexer": "ipython3",
   "version": "3.7.6"
  }
 },
 "nbformat": 4,
 "nbformat_minor": 4
}
