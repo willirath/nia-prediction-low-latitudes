{
 "cells": [
  {
   "cell_type": "markdown",
   "metadata": {},
   "source": [
    "## Parameters"
   ]
  },
  {
   "cell_type": "code",
   "execution_count": null,
   "metadata": {},
   "outputs": [],
   "source": [
    "# parameters\n",
    "\n",
    "slab_model_H = 1  # Set to 1m and scale later\n",
    "\n",
    "GFS_zarr_store = \"tmp_GFS.zarr\"\n",
    "slab_zarr_store = \"tmp_slab.zarr\"\n",
    "\n",
    "dask_kwargs = {\"n_workers\": 1, \"threads_per_worker\": 3, \"memory_limit\": 6e9}\n",
    "\n",
    "dask_worker_config = {\n",
    "    \"distributed.worker.memory.target\": 0.80,  # target fraction to stay below\n",
    "    \"distributed.worker.memory.spill\": 0.85,  # fraction at which we spill to disk\n",
    "    \"distributed.worker.memory.pause\": 0.90,  # fraction at which we pause worker threads\n",
    "    \"distributed.worker.memory.terminate\": 0.95,  # fraction at which we terminate the worker\n",
    "}"
   ]
  },
  {
   "cell_type": "markdown",
   "metadata": {},
   "source": [
    "## Tech preamble\n",
    "\n",
    "Import modules and spin up Dask cluster."
   ]
  },
  {
   "cell_type": "code",
   "execution_count": null,
   "metadata": {},
   "outputs": [],
   "source": [
    "import xarray as xr\n",
    "import numpy as np\n",
    "from datetime import datetime, timedelta\n",
    "import dask\n",
    "from dask.distributed import Client\n",
    "import hvplot.xarray"
   ]
  },
  {
   "cell_type": "code",
   "execution_count": null,
   "metadata": {},
   "outputs": [],
   "source": [
    "# set to less agressive memory management\n",
    "dask.config.set(dask_worker_config)\n",
    "\n",
    "# start cluster and connect\n",
    "client = Client(**dask_kwargs)\n",
    "client"
   ]
  },
  {
   "cell_type": "markdown",
   "metadata": {},
   "source": [
    "## Load the data"
   ]
  },
  {
   "cell_type": "code",
   "execution_count": null,
   "metadata": {},
   "outputs": [],
   "source": [
    "ds = xr.open_zarr(GFS_zarr_store)\n",
    "display(ds)"
   ]
  },
  {
   "cell_type": "markdown",
   "metadata": {},
   "source": [
    "## Interpolate the data\n",
    "\n",
    "We need a timestep that is well below the interial period (1/2 day at pole). To be on the safe side, let's go for one hour."
   ]
  },
  {
   "cell_type": "code",
   "execution_count": null,
   "metadata": {},
   "outputs": [],
   "source": [
    "def upsample_data(data_obj, time_delta_ns=3600.0e9, time_name=\"time\"):\n",
    "    \"\"\"Linearly interpolate data to equidistant time steps.\"\"\"\n",
    "    data_obj.coords[time_name] = data_obj.coords[time_name].astype(\"float\")\n",
    "    data_obj = data_obj.interp(\n",
    "        time=np.arange(data_obj.coords[time_name][0],\n",
    "                       data_obj.coords[time_name][-1],\n",
    "                       time_delta_ns),\n",
    "        method=\"slinear\")\n",
    "    data_obj.coords[time_name] = data_obj.coords[time_name].astype(\"datetime64[ns]\")\n",
    "\n",
    "    return data_obj"
   ]
  },
  {
   "cell_type": "code",
   "execution_count": null,
   "metadata": {},
   "outputs": [],
   "source": [
    "taux = upsample_data(ds[\"taux\"])\n",
    "tauy = upsample_data(ds[\"tauy\"])"
   ]
  },
  {
   "cell_type": "code",
   "execution_count": null,
   "metadata": {},
   "outputs": [],
   "source": [
    "print(f\"wind-stress data is {2 * taux.nbytes / 1e6} MB\")"
   ]
  },
  {
   "cell_type": "markdown",
   "metadata": {},
   "source": [
    "## Define the slab model\n",
    "\n",
    "We'll integrate the slab-ocean model of [Pollard & Millard (1970)](https://doi.org/10.1016/0011-7471(70)90043-4)\n",
    "\n",
    "$$\n",
    "\\frac{\\partial (u,v)}{\\partial t} + f\\,(-v,u)\n",
    "  = \\frac{(\\tau^x, \\tau^y)}{H\\rho} - \\epsilon\\,(u,v)\n",
    "$$\n",
    "\n",
    "where $(u, v)$ are the ocean velocity components, $f$ is the Coriolis parameter,\n",
    "$(\\tau^x, \\tau^y)$ are the components of the wind stress, $\\rho$ is the density of sea water,\n",
    "$H$ is the mixed-layer depth, and $\\epsilon$ is a linear damping coefficient.\n",
    "\n",
    "With the complex $q=u+iv$ and $T=\\tau^x + i\\tau^y$ the model equation becomes:\n",
    "\n",
    "$$\n",
    "\\frac{\\partial q}{\\partial t} + if\\,q\n",
    "  = \\frac{T}{H\\rho} - \\epsilon\\,q\n",
    "$$\n",
    "\n",
    "As [d'Asaro (1985)](https://doi.org/10.1175/1520-0485(1985)015%3C1043:TEFFTW%3E2.0.CO;2) points out, the response of $q$ to wind variations can be separated into a transient inertial response and an Ekman current and the Ekman current can be removed by integrating:\n",
    "$$\n",
    "\\frac{\\partial q}{\\partial t} + (\\epsilon + if)\\,q\n",
    "  = - \\frac{1}{(\\epsilon + if)\\rho\\,H} \\frac{\\partial T}{\\partial t}\n",
    "$$\n",
    "\n",
    "This can be discretized to\n",
    "\n",
    "$$\n",
    "q_l = d_1 \\, q_{l-1} + d_2 \\, q_{l-2} + c_0 \\, T_l + c_2 \\, T_{l-2}\n",
    "$$\n",
    "\n",
    "with $d_1 = - 2if \\Delta t$, $d_2 = 1 - 2 \\epsilon \\Delta t$, $c_0 = - 1 / ((\\epsilon + if)\\rho H)$, $c_2 = - c_0$."
   ]
  },
  {
   "cell_type": "code",
   "execution_count": null,
   "metadata": {},
   "outputs": [],
   "source": [
    "def filter_windstress(\n",
    "    taux, tauy,\n",
    "    epsilon=1 / 5 / 24 / 3600,  # [1/s]\n",
    "    rho=1035,  # [kg/m3]\n",
    "    H=10,  # [m]\n",
    "    f=None,  # [1/s]\n",
    "):\n",
    "\n",
    "    # we need a uniform time step\n",
    "    assert taux.time.diff(\"time\").astype(\"float\").std(\"time\") / 1e9 < 1e-4\n",
    "    dt = (taux.time.diff(\"time\").astype(\"float\").mean(\"time\") / 1e9).data  # ns --> s\n",
    "    \n",
    "    # maybe generate f from latitude info\n",
    "    if f is None:\n",
    "        f = 2 * 7.2921e-5 * np.sin(np.deg2rad(taux.coords[\"lat\"]))\n",
    "\n",
    "    # complex wind stress, masked with zeros where missing\n",
    "    T = taux.astype(\"float32\") + 1j * tauy.astype(\"float32\")\n",
    "    T = xr.where(~T.isnull(), T, 0)\n",
    "\n",
    "    # integration coefficients\n",
    "    c_0 = - 1 / (epsilon + 1j * f) / rho / H\n",
    "    c_2 = - c_0\n",
    "    d_1 = - 2j * f * dt\n",
    "    d_2 = 1 - 2 * epsilon * dt\n",
    "    \n",
    "    # broadcast\n",
    "    c_0 = xr.broadcast(xr.DataArray(c_0), T)[0]\n",
    "    c_2 = xr.broadcast(xr.DataArray(c_2), T)[0]\n",
    "    d_1 = xr.broadcast(xr.DataArray(d_1), T)[0]\n",
    "    d_2 = xr.broadcast(xr.DataArray(d_2), T)[0]\n",
    "\n",
    "    import numba\n",
    "\n",
    "    # helper function doing the actual integration\n",
    "    @numba.jit\n",
    "    def integrate(T, d_1, d_2, c_0, c_2):\n",
    "        q = np.zeros_like(T)\n",
    "        for l in range(2, T.shape[0]):\n",
    "            q[l, ...] = (\n",
    "                d_1[l-1, ...] * q[l-1, ...]\n",
    "                + d_2[l-2, ...] * q[l-2, ...]\n",
    "                + c_0[l, ...] * T[l, ...]\n",
    "                + c_2[l-2, ...] * T[l-2, ...]\n",
    "            )\n",
    "        return q\n",
    "    \n",
    "    # apply integration to all data\n",
    "    q = xr.apply_ufunc(integrate, T, d_1, d_2, c_0, c_2,\n",
    "                       vectorize=True,\n",
    "                       input_core_dims=[['time'], ['time'],  ['time'], ['time'], ['time']],\n",
    "                       output_core_dims=[['time']],\n",
    "                       output_dtypes=[np.complex],\n",
    "                       dask='parallelized')\n",
    "    \n",
    "    # mask for undefined wind stress again\n",
    "    q = q.where(xr.ufuncs.logical_not(T == 0))\n",
    "    \n",
    "    # mask for +/- 5 deg around equator\n",
    "    q = q.where(abs(q.coords[\"lat\"]) > 4.0)\n",
    "        \n",
    "    # extract u and v from complex q, remove mean, and calc speed\n",
    "    slab_u = xr.ufuncs.real(q).astype(\"float32\")\n",
    "    slab_u = slab_u.rename(\"slab_u\")\n",
    "    \n",
    "    slab_v = xr.ufuncs.imag(q).astype(\"float32\")\n",
    "    slab_v = slab_v.rename(\"slab_v\")\n",
    "    \n",
    "    slab_umag = (slab_u**2 + slab_v**2)**0.5\n",
    "    slab_umag = slab_umag.rename(\"slab_umag\")\n",
    "\n",
    "    return slab_u, slab_v, slab_umag"
   ]
  },
  {
   "cell_type": "markdown",
   "metadata": {},
   "source": [
    "## Run the slab model\n",
    "\n",
    "We'll create the dataset with the slab model output and sub-sample the model to the original time resolution of the wind data.\n",
    "\n",
    "The actual computation is triggered and performed parallel when we store the data."
   ]
  },
  {
   "cell_type": "code",
   "execution_count": null,
   "metadata": {},
   "outputs": [],
   "source": [
    "# define output data\n",
    "ds_slab = xr.Dataset()\n",
    "ds_slab[\"u_slab\"], ds_slab[\"v_slab\"], ds_slab[\"umag_slab\"] = filter_windstress(taux, tauy, H=slab_model_H)\n",
    "\n",
    "# subsample\n",
    "ds_slab = ds_slab.sel(time=ds.time, method=\"nearest\")\n",
    "\n",
    "# add other parameters\n",
    "ds_slab.attrs[\"slab_model_H\"] = slab_model_H"
   ]
  },
  {
   "cell_type": "code",
   "execution_count": null,
   "metadata": {},
   "outputs": [],
   "source": [
    "display(ds_slab)"
   ]
  },
  {
   "cell_type": "code",
   "execution_count": null,
   "metadata": {},
   "outputs": [],
   "source": [
    "%%time\n",
    "\n",
    "ds_slab.to_zarr(slab_zarr_store, mode=\"w\")"
   ]
  },
  {
   "cell_type": "markdown",
   "metadata": {},
   "source": [
    "## Have a brief look at the data"
   ]
  },
  {
   "cell_type": "code",
   "execution_count": null,
   "metadata": {},
   "outputs": [],
   "source": [
    "ds_slab = xr.open_zarr(slab_zarr_store)"
   ]
  },
  {
   "cell_type": "code",
   "execution_count": null,
   "metadata": {},
   "outputs": [],
   "source": [
    "(\n",
    "    ds[\"taux\"].sel(lon=360-23, lat=12, method=\"nearest\").hvplot.line(label=\"taux\")\n",
    "    * ds[\"tauy\"].sel(lon=360-23, lat=12, method=\"nearest\").hvplot.line(label=\"tauy\")\n",
    "    + ds_slab[\"u_slab\"].sel(lon=360-23, lat=12, method=\"nearest\").hvplot.line(label=\"slab U\")\n",
    "    * ds_slab[\"v_slab\"].sel(lon=360-23, lat=12, method=\"nearest\").hvplot.line(label=\"slab V\")\n",
    "    * ds_slab[\"umag_slab\"].sel(lon=360-23, lat=12, method=\"nearest\").hvplot.line(label=\"slab UMAG\")\n",
    ").cols(1)"
   ]
  },
  {
   "cell_type": "code",
   "execution_count": null,
   "metadata": {},
   "outputs": [],
   "source": [
    "(\n",
    "    ds[\"taux\"].sel(lon=360-23, lat=22, method=\"nearest\").hvplot.line(label=\"taux\")\n",
    "    * ds[\"tauy\"].sel(lon=360-23, lat=22, method=\"nearest\").hvplot.line(label=\"tauy\")\n",
    "    + ds_slab[\"u_slab\"].sel(lon=360-23, lat=22, method=\"nearest\").hvplot.line(label=\"slab U\")\n",
    "    * ds_slab[\"v_slab\"].sel(lon=360-23, lat=22, method=\"nearest\").hvplot.line(label=\"slab V\")\n",
    "    * ds_slab[\"umag_slab\"].sel(lon=360-23, lat=22, method=\"nearest\").hvplot.line(label=\"slab UMAG\")\n",
    ").cols(1)"
   ]
  },
  {
   "cell_type": "code",
   "execution_count": null,
   "metadata": {},
   "outputs": [],
   "source": [
    "(\n",
    "    ds[\"taux\"].sel(lon=360-23, lat=-32, method=\"nearest\").hvplot.line(label=\"taux\")\n",
    "    * ds[\"tauy\"].sel(lon=360-23, lat=-32, method=\"nearest\").hvplot.line(label=\"tauy\")\n",
    "    + ds_slab[\"u_slab\"].sel(lon=360-23, lat=-32, method=\"nearest\").hvplot.line(label=\"slab U\")\n",
    "    * ds_slab[\"v_slab\"].sel(lon=360-23, lat=-32, method=\"nearest\").hvplot.line(label=\"slab V\")\n",
    "    * ds_slab[\"umag_slab\"].sel(lon=360-23, lat=-32, method=\"nearest\").hvplot.line(label=\"slab UMAG\")\n",
    ").cols(1)"
   ]
  },
  {
   "cell_type": "code",
   "execution_count": null,
   "metadata": {},
   "outputs": [],
   "source": [
    "(\n",
    "    ds[\"taux\"].sel(lon=95, lat=-5, method=\"nearest\").hvplot.line(label=\"taux\")\n",
    "    * ds[\"tauy\"].sel(lon=95, lat=-5, method=\"nearest\").hvplot.line(label=\"tauy\")\n",
    "    + ds_slab[\"u_slab\"].sel(lon=95, lat=-5, method=\"nearest\").hvplot.line(label=\"slab U\")\n",
    "    * ds_slab[\"v_slab\"].sel(lon=95, lat=-5, method=\"nearest\").hvplot.line(label=\"slab V\")\n",
    "    * ds_slab[\"umag_slab\"].sel(lon=95, lat=-5, method=\"nearest\").hvplot.line(label=\"slab UMAG\")\n",
    ").cols(1)"
   ]
  },
  {
   "cell_type": "code",
   "execution_count": null,
   "metadata": {},
   "outputs": [],
   "source": [
    "ds_slab[\"v_slab\"].sel(lon=360-23, lat=12, method=\"nearest\")"
   ]
  },
  {
   "cell_type": "markdown",
   "metadata": {},
   "source": [
    "---"
   ]
  },
  {
   "cell_type": "code",
   "execution_count": null,
   "metadata": {},
   "outputs": [],
   "source": [
    "!echo \"Finished: $(date -Ins) (UTC)\""
   ]
  },
  {
   "cell_type": "markdown",
   "metadata": {},
   "source": [
    "---\n",
    "See https://github.com/willirath/nia-prediction-low-latitudes for details."
   ]
  }
 ],
 "metadata": {
  "kernelspec": {
   "display_name": "Python 3",
   "language": "python",
   "name": "python3"
  },
  "language_info": {
   "codemirror_mode": {
    "name": "ipython",
    "version": 3
   },
   "file_extension": ".py",
   "mimetype": "text/x-python",
   "name": "python",
   "nbconvert_exporter": "python",
   "pygments_lexer": "ipython3",
   "version": "3.7.6"
  }
 },
 "nbformat": 4,
 "nbformat_minor": 4
}
