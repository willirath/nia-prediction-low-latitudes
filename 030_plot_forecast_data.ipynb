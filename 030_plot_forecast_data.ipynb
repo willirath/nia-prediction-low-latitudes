{
 "cells": [
  {
   "cell_type": "markdown",
   "metadata": {},
   "source": [
    "# Plot the Near-Inertial Activity Forecast\n",
    "\n",
    "To see how we got here, check the notebooks about [loading the data](./01_download_GFS_data.html), and about [running the slab-ocean model](./02_run_slab_model.html).\n",
    "\n",
    "Details: https://willirath.github.io/nia-prediction-low-latitudes"
   ]
  },
  {
   "cell_type": "markdown",
   "metadata": {},
   "source": [
    "## Parameters"
   ]
  },
  {
   "cell_type": "code",
   "execution_count": null,
   "metadata": {},
   "outputs": [],
   "source": [
    "# parameters\n",
    "\n",
    "GFS_zarr_store = \"tmp_GFS.zarr\"\n",
    "slab_zarr_store = \"tmp_slab.zarr\"\n",
    "buoy_file_name = \"tmp_buoy_data\"\n",
    "\n",
    "dask_kwargs = {\"n_workers\": 1, \"threads_per_worker\": 3, \"memory_limit\": 6e9}\n",
    "\n",
    "buoy_locations = {\n",
    "    f\"20.0N,{360.0-38.0}E\": {\"lat\": 20.0, \"lon\": -38.0},\n",
    "    f\"15.0N,{360.0-38.0}E\": {\"lat\": 15.0, \"lon\": -38.0},\n",
    "    f\"21.0N,{360.0-23.0}E\": {\"lat\": 21.0, \"lon\": -23.0},\n",
    "    f\"12.0N,{360.0-23.0}E\": {\"lat\": 12.0, \"lon\": -23.0},\n",
    "    f\"-6.0N,{360.0-10.0}E\": {\"lat\": -6.0, \"lon\": -10.0},\n",
    "    f\"-10.0N,{360.0-10.0}E\": {\"lat\": -10.0 ,\"lon\": -10.0},\n",
    "}\n",
    "\n",
    "lat_min, lat_max = -40, 40"
   ]
  },
  {
   "cell_type": "markdown",
   "metadata": {},
   "source": [
    "## Tech preamble\n",
    "\n",
    "Import modules and spin up Dask cluster."
   ]
  },
  {
   "cell_type": "code",
   "execution_count": null,
   "metadata": {},
   "outputs": [],
   "source": [
    "import numpy as np\n",
    "import xarray as xr\n",
    "from dask.distributed import Client\n",
    "import hvplot.xarray, hvplot.pandas\n",
    "import cmocean\n",
    "import pandas as pd\n",
    "import cartopy.crs as ccrs\n",
    "\n",
    "\n",
    "import holoviews as hv\n",
    "\n",
    "from functools import reduce\n",
    "from operator import add"
   ]
  },
  {
   "cell_type": "code",
   "execution_count": null,
   "metadata": {},
   "outputs": [],
   "source": [
    "client = Client(**dask_kwargs)\n",
    "client"
   ]
  },
  {
   "cell_type": "markdown",
   "metadata": {},
   "source": [
    "## Prepare buoy location plots"
   ]
  },
  {
   "cell_type": "code",
   "execution_count": null,
   "metadata": {},
   "outputs": [],
   "source": [
    "buoy_df = pd.read_csv(f\"{buoy_file_name}.csv\")\n",
    "buoy_df"
   ]
  },
  {
   "cell_type": "code",
   "execution_count": null,
   "metadata": {},
   "outputs": [],
   "source": [
    "buoy_locations.update(\n",
    "    {\n",
    "        f\"{lat}N,{lon}E\": {\"lat\": lat, \"lon\": lon}\n",
    "        for lat, lon in buoy_df.set_index([\"lat\", \"lon\"]).index.to_series().unique()\n",
    "    }\n",
    ")"
   ]
  },
  {
   "cell_type": "code",
   "execution_count": null,
   "metadata": {},
   "outputs": [],
   "source": [
    "buoy_names = sorted(buoy_locations.keys(), key=lambda s: -float(s.split(\"N\")[0]))\n",
    "buoy_locations = {bn: buoy_locations[bn] for bn in buoy_names}"
   ]
  },
  {
   "cell_type": "code",
   "execution_count": null,
   "metadata": {},
   "outputs": [],
   "source": [
    "display(buoy_locations)"
   ]
  },
  {
   "cell_type": "markdown",
   "metadata": {},
   "source": [
    "## Load the data"
   ]
  },
  {
   "cell_type": "code",
   "execution_count": null,
   "metadata": {},
   "outputs": [],
   "source": [
    "ds_GFS = xr.open_zarr(GFS_zarr_store)\n",
    "ds_slab = xr.open_zarr(slab_zarr_store)"
   ]
  },
  {
   "cell_type": "markdown",
   "metadata": {},
   "source": [
    "## Change SLP unig"
   ]
  },
  {
   "cell_type": "code",
   "execution_count": null,
   "metadata": {},
   "outputs": [],
   "source": [
    "ds_GFS[\"SLP\"] /= 100  # to hPa"
   ]
  },
  {
   "cell_type": "markdown",
   "metadata": {},
   "source": [
    "## Restrict in latitude"
   ]
  },
  {
   "cell_type": "code",
   "execution_count": null,
   "metadata": {},
   "outputs": [],
   "source": [
    "ds_GFS = ds_GFS.sel(lat=slice(lat_max, lat_min))\n",
    "ds_slab = ds_slab.sel(lat=slice(lat_max, lat_min))"
   ]
  },
  {
   "cell_type": "markdown",
   "metadata": {},
   "source": [
    "## Find start of forecast period"
   ]
  },
  {
   "cell_type": "code",
   "execution_count": null,
   "metadata": {},
   "outputs": [],
   "source": [
    "start_of_forecast = (~ds_GFS[\"is_forecast\"].astype(bool)).sum().compute().data\n",
    "start_of_forecast = ds_GFS[\"time\"].data[start_of_forecast]\n",
    "print(start_of_forecast)"
   ]
  },
  {
   "cell_type": "markdown",
   "metadata": {},
   "source": [
    "## Remove steady state\n",
    "\n",
    "**FIXME:** This should have been done in the slab-model run?"
   ]
  },
  {
   "cell_type": "code",
   "execution_count": null,
   "metadata": {},
   "outputs": [],
   "source": [
    "ds_slab[\"u_slab\"] -= ds_slab[\"u_slab\"].mean(\"time\")\n",
    "ds_slab[\"v_slab\"] -= ds_slab[\"v_slab\"].mean(\"time\")\n",
    "ds_slab[\"umag_slab\"] = (ds_slab[\"u_slab\"] ** 2 + ds_slab[\"v_slab\"] ** 2) ** 0.5"
   ]
  },
  {
   "cell_type": "markdown",
   "metadata": {},
   "source": [
    "## NIA timeseries for buoy locations"
   ]
  },
  {
   "cell_type": "code",
   "execution_count": null,
   "metadata": {},
   "outputs": [],
   "source": [
    "plots = []\n",
    "\n",
    "for name, location in buoy_locations.items():\n",
    "    buoy_ds = ds_slab.sel(\n",
    "        lat=location[\"lat\"], lon=(360+location[\"lon\"]) % 360, method=\"nearest\"\n",
    "    )\n",
    "    buoy_ds[\"taux\"] = ds_GFS[\"taux\"].sel(\n",
    "        lat=location[\"lat\"], lon=(360+location[\"lon\"]) % 360, method=\"nearest\"\n",
    "    )\n",
    "    buoy_ds[\"tauy\"] = ds_GFS[\"tauy\"].sel(\n",
    "        lat=location[\"lat\"], lon=(360+location[\"lon\"]) % 360, method=\"nearest\"\n",
    "    )\n",
    "    \n",
    "    plots.append(\n",
    "        (\n",
    "            buoy_ds[\"taux\"].hvplot.line(label=\"taux\", width=400, height=300)\n",
    "            * buoy_ds[\"tauy\"].hvplot.line(label=\"tauy\")\n",
    "        ).opts(legend_cols=True, title=name, legend_position='top')\n",
    "        + (\n",
    "            buoy_ds[\"u_slab\"].hvplot.line(label=\"u\", width=400, height=300)\n",
    "            * buoy_ds[\"v_slab\"].hvplot.line(label=\"v\")\n",
    "            * buoy_ds[\"umag_slab\"].hvplot.line(label=\"umag\")\n",
    "            * hv.VLine(start_of_forecast)\n",
    "        ).opts(legend_cols=True, title=name, legend_position='top')\n",
    "    )\n",
    "\n",
    "reduce(add, plots).cols(2)"
   ]
  },
  {
   "cell_type": "markdown",
   "metadata": {},
   "source": [
    "## NIA max over forecast period"
   ]
  },
  {
   "cell_type": "code",
   "execution_count": null,
   "metadata": {},
   "outputs": [],
   "source": [
    "slab_umag_max = ds_slab[\"umag_slab\"].where(ds_GFS[\"is_forecast\"]).max(\"time\")\n",
    "(\n",
    "    slab_umag_max.hvplot(\n",
    "        x=\"lon\", y=\"lat\", z=\"umag_slab\",\n",
    "        clim=(0, 2),\n",
    "        cmap=cmocean.cm.speed,\n",
    "        frame_width=800,\n",
    "        hover=False,\n",
    "        geo=True, coastline=True,\n",
    "        crs=ccrs.PlateCarree(), projection=ccrs.PlateCarree(),\n",
    "    )\n",
    "    * pd.DataFrame.from_dict(buoy_locations).T.hvplot.points(\n",
    "        y=\"lat\", x=\"lon\", geo=True, coastline=True,\n",
    "        marker='circle',\n",
    "        fill_color=None, line_color=\"black\",\n",
    "        line_width=1, size=60,\n",
    "    )\n",
    ").opts(title=\"Slab UMAG [m/s] max over forecast\")"
   ]
  },
  {
   "cell_type": "markdown",
   "metadata": {},
   "source": [
    "## Atmospheric conditions"
   ]
  },
  {
   "cell_type": "code",
   "execution_count": null,
   "metadata": {},
   "outputs": [],
   "source": [
    "SLP_mean = ds_GFS[\"SLP\"].mean(\"time\")\n",
    "SLP_anomaly = ds_GFS[\"SLP\"] - SLP_mean"
   ]
  },
  {
   "cell_type": "code",
   "execution_count": null,
   "metadata": {},
   "outputs": [],
   "source": [
    "plot_every = np.timedelta64(12, \"h\")\n",
    "max_iter = ((SLP_anomaly.coords[\"time\"].max(\"time\") - start_of_forecast) / plot_every).item() // 1 + 1\n",
    "\n",
    "plot_times = [\n",
    "    (start_of_forecast + n * plot_every)\n",
    "    for n in range(-6, int(max_iter))\n",
    "]\n",
    "\n",
    "plots = []\n",
    "\n",
    "for plot_time in plot_times:\n",
    "    plots.append(\n",
    "        (\n",
    "            SLP_anomaly.sel(time=plot_time, method=\"nearest\").compute().hvplot(\n",
    "                clim=(-10, 10),\n",
    "                cmap=cmocean.cm.delta,\n",
    "                frame_width=800,\n",
    "                geo=True, coastline=True,\n",
    "                crs=ccrs.PlateCarree(), projection=ccrs.PlateCarree(),\n",
    "                hover=False\n",
    "            )\n",
    "            * pd.DataFrame.from_dict(buoy_locations).T.hvplot.points(\n",
    "                y=\"lat\", x=\"lon\", geo=True, coastline=True,\n",
    "                marker='circle',\n",
    "                fill_color=None, line_color=\"black\",\n",
    "                line_width=1.5, size=60,\n",
    "            )\n",
    "        ).opts(title=f\"SLP anomaly [hPa], {plot_time}\")\n",
    "    )        \n",
    "    \n",
    "reduce(add, plots).cols(1)"
   ]
  },
  {
   "cell_type": "markdown",
   "metadata": {},
   "source": [
    "---"
   ]
  },
  {
   "cell_type": "code",
   "execution_count": null,
   "metadata": {},
   "outputs": [],
   "source": [
    "!echo \"Finished: $(date -Ins)\""
   ]
  },
  {
   "cell_type": "markdown",
   "metadata": {},
   "source": [
    "---\n",
    "See https://github.com/willirath/nia-prediction-low-latitudes for details."
   ]
  }
 ],
 "metadata": {
  "kernelspec": {
   "display_name": "Python 3",
   "language": "python",
   "name": "python3"
  },
  "language_info": {
   "codemirror_mode": {
    "name": "ipython",
    "version": 3
   },
   "file_extension": ".py",
   "mimetype": "text/x-python",
   "name": "python",
   "nbconvert_exporter": "python",
   "pygments_lexer": "ipython3",
   "version": "3.7.6"
  }
 },
 "nbformat": 4,
 "nbformat_minor": 4
}
