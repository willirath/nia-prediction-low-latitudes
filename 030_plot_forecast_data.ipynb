{
 "cells": [
  {
   "cell_type": "markdown",
   "metadata": {},
   "source": [
    "# Near-Inertial Activity Forecast\n",
    "\n",
    "To see how we got here, check the notebooks with the [loading the GFS atmospheric forecast data](./010_download_GFS_data.html), \n",
    "the [loading of the buoy data](./011_...), and the [evaluation of the slab-ocean model](./020_run_slab_model.html).\n",
    "\n",
    "Details: <https://github.com/willirath/nia-prediction-low-latitudes/>"
   ]
  },
  {
   "cell_type": "markdown",
   "metadata": {},
   "source": [
    "## Parameters\n",
    "\n",
    "The following parameters determine the regional coverage of the forecast and the positions for which we plot detailed time series.\n",
    "They also determine the location of (temporary) data files, and details for the parallelization with [Dask](https://dask.org/)."
   ]
  },
  {
   "cell_type": "code",
   "execution_count": null,
   "metadata": {},
   "outputs": [],
   "source": [
    "# parameters\n",
    "\n",
    "# regional coverage\n",
    "lat_min, lat_max = -35, 35\n",
    "lon_min, lon_max = None, None\n",
    "\n",
    "# good forecasts reach\n",
    "good_forecast_time = 7  # 7 days\n",
    "\n",
    "# buoy locations to be plotted\n",
    "buoy_locations = {\n",
    "    f\"20.0N {360.0-38.0}E\": {\"lat\": 20.0, \"lon\": -38.0},\n",
    "    f\"15.0N {360.0-38.0}E\": {\"lat\": 15.0, \"lon\": -38.0},\n",
    "    f\"21.0N {360.0-23.0}E\": {\"lat\": 21.0, \"lon\": -23.0},\n",
    "    f\"12.0N {360.0-23.0}E\": {\"lat\": 12.0, \"lon\": -23.0},\n",
    "    f\"-6.0N {360.0-10.0}E\": {\"lat\": -6.0, \"lon\": -10.0},\n",
    "    f\"-10.0N {360.0-10.0}E\": {\"lat\": -10.0 ,\"lon\": -10.0},\n",
    "}\n",
    "\n",
    "# data files\n",
    "GFS_zarr_store = \"tmp_GFS.zarr\"\n",
    "slab_zarr_store = \"tmp_slab.zarr\"\n",
    "buoy_file_name = \"tmp_buoy_data\"\n",
    "\n",
    "# dask specifics\n",
    "dask_kwargs = {\"n_workers\": 1, \"threads_per_worker\": 2, \"memory_limit\": 6e9}"
   ]
  },
  {
   "cell_type": "markdown",
   "metadata": {},
   "source": [
    "## Technial Preamble\n",
    "\n",
    "Before doing any calculations, we'll need to import a few modules. We'll also start a Dask cluster for parallel execution."
   ]
  },
  {
   "cell_type": "code",
   "execution_count": null,
   "metadata": {},
   "outputs": [],
   "source": [
    "# dask\n",
    "from dask.distributed import Client\n",
    "\n",
    "# plotting\n",
    "import cartopy.crs as ccrs\n",
    "import cmocean\n",
    "import holoviews as hv\n",
    "import hvplot.xarray, hvplot.pandas\n",
    "\n",
    "# numerics\n",
    "import numpy as np\n",
    "import pandas as pd\n",
    "import xarray as xr\n",
    "\n",
    "# aux\n",
    "from functools import reduce\n",
    "from operator import add"
   ]
  },
  {
   "cell_type": "code",
   "execution_count": null,
   "metadata": {},
   "outputs": [],
   "source": [
    "# create Dask cluster\n",
    "client = Client(**dask_kwargs)\n",
    "client"
   ]
  },
  {
   "cell_type": "markdown",
   "metadata": {},
   "source": [
    "## Extract buoy locations from the buoy data set\n",
    "\n",
    "_**TODO:** Move to separate notebook and just load a CSV here._"
   ]
  },
  {
   "cell_type": "code",
   "execution_count": null,
   "metadata": {},
   "outputs": [],
   "source": [
    "buoy_df = pd.read_csv(f\"{buoy_file_name}.csv\")\n",
    "buoy_df"
   ]
  },
  {
   "cell_type": "code",
   "execution_count": null,
   "metadata": {},
   "outputs": [],
   "source": [
    "buoy_locations.update(\n",
    "    {\n",
    "        f\"{lat}N {lon}E\": {\"lat\": lat, \"lon\": lon}\n",
    "        for lat, lon in buoy_df.set_index([\"lat\", \"lon\"]).index.to_series().unique()\n",
    "    }\n",
    ")"
   ]
  },
  {
   "cell_type": "code",
   "execution_count": null,
   "metadata": {},
   "outputs": [],
   "source": [
    "buoy_names = sorted(buoy_locations.keys(), key=lambda s: -float(s.split(\"N\")[0]))\n",
    "buoy_locations = {bn: buoy_locations[bn] for bn in buoy_names}"
   ]
  },
  {
   "cell_type": "code",
   "execution_count": null,
   "metadata": {},
   "outputs": [],
   "source": [
    "display(buoy_locations)"
   ]
  },
  {
   "cell_type": "markdown",
   "metadata": {},
   "source": [
    "## Load the GFS and slab-model data"
   ]
  },
  {
   "cell_type": "code",
   "execution_count": null,
   "metadata": {},
   "outputs": [],
   "source": [
    "ds_GFS = xr.open_zarr(GFS_zarr_store)\n",
    "ds_slab = xr.open_zarr(slab_zarr_store)"
   ]
  },
  {
   "cell_type": "markdown",
   "metadata": {},
   "source": [
    "### Change SLP unit to hPa\n",
    "\n",
    "_**TODO:** Move to GFS notebook._"
   ]
  },
  {
   "cell_type": "code",
   "execution_count": null,
   "metadata": {},
   "outputs": [],
   "source": [
    "ds_GFS[\"SLP\"] /= 100  # to hPa\n",
    "ds_GFS[\"SLP\"].attrs[\"units\"] = \"hPa\""
   ]
  },
  {
   "cell_type": "markdown",
   "metadata": {},
   "source": [
    "### Restrict regionally"
   ]
  },
  {
   "cell_type": "code",
   "execution_count": null,
   "metadata": {},
   "outputs": [],
   "source": [
    "ds_GFS = ds_GFS.sel(\n",
    "    lat=slice(lat_max, lat_min),\n",
    "    lon=slice(lon_max, lon_min),\n",
    ")\n",
    "ds_slab = ds_slab.sel(\n",
    "    lat=slice(lat_max, lat_min),\n",
    "    lon=slice(lon_max, lon_min),\n",
    ")"
   ]
  },
  {
   "cell_type": "markdown",
   "metadata": {},
   "source": [
    "### Find start of forecast period\n",
    "\n",
    "We'll need the time stamp of the start of the forecasting data."
   ]
  },
  {
   "cell_type": "code",
   "execution_count": null,
   "metadata": {},
   "outputs": [],
   "source": [
    "start_of_forecast = (~ds_GFS[\"is_forecast\"].astype(bool)).sum().compute().data\n",
    "start_of_forecast = ds_GFS[\"time\"].data[start_of_forecast]\n",
    "print(start_of_forecast)"
   ]
  },
  {
   "cell_type": "code",
   "execution_count": null,
   "metadata": {},
   "outputs": [],
   "source": [
    "good_forecast_time = np.timedelta64(good_forecast_time, \"D\")"
   ]
  },
  {
   "cell_type": "markdown",
   "metadata": {},
   "source": [
    "### Remove steady state from slab model\n",
    "\n",
    "_**TODO:** This should have been done in the slab-model run?_"
   ]
  },
  {
   "cell_type": "code",
   "execution_count": null,
   "metadata": {},
   "outputs": [],
   "source": [
    "ds_slab[\"u_slab\"] -= ds_slab[\"u_slab\"].mean(\"time\")\n",
    "ds_slab[\"v_slab\"] -= ds_slab[\"v_slab\"].mean(\"time\")\n",
    "ds_slab[\"umag_slab\"] = (ds_slab[\"u_slab\"] ** 2 + ds_slab[\"v_slab\"] ** 2) ** 0.5"
   ]
  },
  {
   "cell_type": "markdown",
   "metadata": {},
   "source": [
    "## NIA timeseries for buoy locations"
   ]
  },
  {
   "cell_type": "code",
   "execution_count": null,
   "metadata": {},
   "outputs": [],
   "source": [
    "from bokeh.models.formatters import DatetimeTickFormatter\n",
    "\n",
    "formatter = DatetimeTickFormatter(\n",
    "    months='%b %Y', days='%b %d'\n",
    ")\n",
    "\n"
   ]
  },
  {
   "cell_type": "code",
   "execution_count": null,
   "metadata": {},
   "outputs": [],
   "source": [
    "from holoviews import opts\n",
    "\n",
    "time_series_plots = []\n",
    "\n",
    "forecast_spans = (\n",
    "    hv.VSpan(\n",
    "        start_of_forecast, start_of_forecast + good_forecast_time\n",
    "    ).opts(padding=0, color='lightgray')\n",
    "    * hv.VSpan(\n",
    "        start_of_forecast + good_forecast_time, None\n",
    "    ).opts(padding=0, color='pink')\n",
    ")\n",
    "\n",
    "for name, location in list(buoy_locations.items()):\n",
    "    buoy_ds = ds_slab.sel(\n",
    "        lat=location[\"lat\"], lon=(360+location[\"lon\"]) % 360, method=\"nearest\"\n",
    "    )\n",
    "    buoy_ds[\"taux\"] = ds_GFS[\"taux\"].sel(\n",
    "        lat=location[\"lat\"], lon=(360+location[\"lon\"]) % 360, method=\"nearest\"\n",
    "    )\n",
    "    buoy_ds[\"tauy\"] = ds_GFS[\"tauy\"].sel(\n",
    "        lat=location[\"lat\"], lon=(360+location[\"lon\"]) % 360, method=\"nearest\"\n",
    "    )\n",
    "    \n",
    "    if (buoy_ds[\"umag_slab\"].max(\"time\").isnull().data.compute()):\n",
    "        continue\n",
    "    time_series_plots.append(\n",
    "        (\n",
    "            (\n",
    "                forecast_spans.redim.label(y=\"taux\")\n",
    "                * buoy_ds[\"taux\"].hvplot.line(\n",
    "                    label=\"taux\", tools=[\"xpan\", ]\n",
    "                )\n",
    "                * buoy_ds[\"tauy\"].hvplot.line(label=\"tauy\")\n",
    "            ).options(\n",
    "                width=700, height=160, show_grid=True,\n",
    "                xaxis=None,\n",
    "                legend_cols=False, legend_position='right',\n",
    "                ylabel=\"wind stress [N/m2]\", title=name, tools=[\"xpan\", ]\n",
    "            )\n",
    "            + (\n",
    "                forecast_spans.redim.label(y=\"u_slab\")\n",
    "                * buoy_ds[\"u_slab\"].hvplot.line(label=\"u\")\n",
    "                * buoy_ds[\"v_slab\"].hvplot.line(label=\"v\")\n",
    "                * buoy_ds[\"umag_slab\"].hvplot.line(label=\"near-inertial\\nspeed\")\n",
    "            ).options(\n",
    "                width=700, height=160, show_grid=True,\n",
    "                xformatter=formatter,\n",
    "                legend_cols=False, legend_position='right',\n",
    "                ylabel=\"velocity [m/s]\", xlabel=\"\"\n",
    "            )\n",
    "        )\n",
    "    )\n",
    "\n",
    "time_series_plots = reduce(add, time_series_plots)"
   ]
  },
  {
   "cell_type": "code",
   "execution_count": null,
   "metadata": {},
   "outputs": [],
   "source": [
    "display(time_series_plots.cols(1))"
   ]
  },
  {
   "cell_type": "markdown",
   "metadata": {},
   "source": [
    "## NIA max over forecast period"
   ]
  },
  {
   "cell_type": "code",
   "execution_count": null,
   "metadata": {},
   "outputs": [],
   "source": [
    "slab_umag_max = ds_slab[\"umag_slab\"].where(ds_GFS[\"is_forecast\"]).max(\"time\")\n",
    "(\n",
    "    slab_umag_max.hvplot(\n",
    "        x=\"lon\", y=\"lat\", z=\"umag_slab\",\n",
    "        clim=(0, 2),\n",
    "        cmap=cmocean.cm.speed,\n",
    "        frame_width=800,\n",
    "        hover=False,\n",
    "        geo=True, coastline=True,\n",
    "        crs=ccrs.PlateCarree(), projection=ccrs.PlateCarree(),\n",
    "    )\n",
    "    * pd.DataFrame.from_dict(buoy_locations).T.hvplot.points(\n",
    "        y=\"lat\", x=\"lon\", geo=True, coastline=True,\n",
    "        marker='circle',\n",
    "        fill_color=None, line_color=\"black\",\n",
    "        line_width=1, size=60,\n",
    "    )\n",
    ").opts(title=\"Slab UMAG [m/s] max over forecast\")"
   ]
  },
  {
   "cell_type": "markdown",
   "metadata": {},
   "source": [
    "## Atmospheric conditions"
   ]
  },
  {
   "cell_type": "code",
   "execution_count": null,
   "metadata": {},
   "outputs": [],
   "source": [
    "SLP_mean = ds_GFS[\"SLP\"].mean(\"time\")\n",
    "SLP_anomaly = ds_GFS[\"SLP\"] - SLP_mean"
   ]
  },
  {
   "cell_type": "code",
   "execution_count": null,
   "metadata": {},
   "outputs": [],
   "source": [
    "plot_every = np.timedelta64(12, \"h\")\n",
    "max_iter = ((SLP_anomaly.coords[\"time\"].max(\"time\") - start_of_forecast) / plot_every).item() // 1 + 1\n",
    "\n",
    "plot_times = [\n",
    "    (start_of_forecast + n * plot_every)\n",
    "    for n in range(-6, int(max_iter))\n",
    "]\n",
    "\n",
    "plots = []\n",
    "\n",
    "for plot_time in plot_times:\n",
    "    try:\n",
    "        plots.append(\n",
    "            (\n",
    "                SLP_anomaly.sel(time=plot_time, method=\"nearest\").compute().hvplot(\n",
    "                    clim=(-10, 10),\n",
    "                    cmap=cmocean.cm.delta,\n",
    "                    frame_width=800,\n",
    "                    geo=True, coastline=True,\n",
    "                    crs=ccrs.PlateCarree(), projection=ccrs.PlateCarree(),\n",
    "                    hover=False\n",
    "                )\n",
    "                * pd.DataFrame.from_dict(buoy_locations).T.hvplot.points(\n",
    "                    y=\"lat\", x=\"lon\", geo=True, coastline=True,\n",
    "                    marker='circle',\n",
    "                    fill_color=None, line_color=\"black\",\n",
    "                    line_width=1.5, size=60,\n",
    "                )\n",
    "            ).opts(title=f\"SLP anomaly [hPa], {plot_time}\")\n",
    "        )    \n",
    "    except Exception as e:\n",
    "        print(f\"for {plot_time} I got: {e}\")\n",
    "    \n",
    "reduce(add, plots).cols(1)"
   ]
  },
  {
   "cell_type": "markdown",
   "metadata": {},
   "source": [
    "---"
   ]
  },
  {
   "cell_type": "code",
   "execution_count": null,
   "metadata": {},
   "outputs": [],
   "source": [
    "!echo \"Finished: $(date -Ins)\""
   ]
  },
  {
   "cell_type": "markdown",
   "metadata": {},
   "source": [
    "---\n",
    "See https://github.com/willirath/nia-prediction-low-latitudes for details."
   ]
  }
 ],
 "metadata": {
  "kernelspec": {
   "display_name": "Python 3",
   "language": "python",
   "name": "python3"
  },
  "language_info": {
   "codemirror_mode": {
    "name": "ipython",
    "version": 3
   },
   "file_extension": ".py",
   "mimetype": "text/x-python",
   "name": "python",
   "nbconvert_exporter": "python",
   "pygments_lexer": "ipython3",
   "version": "3.7.6"
  }
 },
 "nbformat": 4,
 "nbformat_minor": 4
}
