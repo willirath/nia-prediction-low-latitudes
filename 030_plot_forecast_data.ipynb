{
 "cells": [
  {
   "cell_type": "markdown",
   "metadata": {},
   "source": [
    "# Near-Inertial Activity Forecast\n",
    "\n",
    "## Quick links\n",
    "\n",
    "- [Near-inertial current maps](#link_ni_current_maps)\n",
    "- [Near-inertial current time series](#link_ni_current_timeseries)\n",
    "- [Atmospheric conditions](#link_atmospheric_conditions)\n",
    "\n",
    "## Details\n",
    "\n",
    "To see how we got here, check the notebooks with the [loading the GFS atmospheric forecast data](./010_download_GFS_data.html), \n",
    "the [loading of the buoy data](./011_download_buoy_data.html), and the [evaluation of the slab-ocean model](./020_run_slab_model.html).\n",
    "\n",
    "Details: <https://github.com/willirath/nia-prediction-low-latitudes/>"
   ]
  },
  {
   "cell_type": "markdown",
   "metadata": {},
   "source": [
    "## Parameters\n",
    "\n",
    "The following parameters determine the regional coverage of the forecast and the positions for which we plot detailed time series.\n",
    "They also determine the location of (temporary) data files, and details for the parallelization with [Dask](https://dask.org/)."
   ]
  },
  {
   "cell_type": "code",
   "execution_count": null,
   "metadata": {},
   "outputs": [],
   "source": [
    "# parameters\n",
    "\n",
    "# regional coverage\n",
    "lat_min, lat_max = -35, 35\n",
    "lon_min, lon_max = 0, 360\n",
    "\n",
    "# good forecasts reach\n",
    "good_forecast_days = 7  # 7 days\n",
    "\n",
    "# additional buoy positions to be plotted\n",
    "# The ones found in the downloaded data will be shown anyway.\n",
    "added_buoy_positions = [\n",
    "    {\"lat\": 20.0, \"lon\": -38.0},\n",
    "    {\"lat\": 15.0, \"lon\": -38.0},\n",
    "    {\"lat\": 21.0, \"lon\": -23.0},\n",
    "    {\"lat\": 12.0, \"lon\": -23.0},\n",
    "    {\"lat\": -6.0, \"lon\": -10.0},\n",
    "    {\"lat\": -10.0 ,\"lon\": -10.0},\n",
    "]\n",
    "\n",
    "# data files\n",
    "GFS_zarr_store = \"tmp_GFS.zarr\"\n",
    "slab_zarr_store = \"tmp_slab.zarr\"\n",
    "buoy_file_name = \"tmp_buoy_data\"\n",
    "buoy_positions_file = \"tmp_buoy_positions.csv\"\n",
    "\n",
    "\n",
    "# dask specifics\n",
    "dask_kwargs = {\"n_workers\": 1, \"threads_per_worker\": 2, \"memory_limit\": 6e9}"
   ]
  },
  {
   "cell_type": "markdown",
   "metadata": {},
   "source": [
    "## Technial Preamble\n",
    "\n",
    "Before doing any calculations, we'll need to import a few modules. We'll also start a Dask cluster for parallel execution."
   ]
  },
  {
   "cell_type": "code",
   "execution_count": null,
   "metadata": {},
   "outputs": [],
   "source": [
    "# dask\n",
    "from dask.distributed import Client\n",
    "\n",
    "# plotting\n",
    "from bokeh.models.formatters import DatetimeTickFormatter\n",
    "import cartopy.crs as ccrs\n",
    "import cmocean\n",
    "import geoviews as gv\n",
    "import holoviews as hv\n",
    "import hvplot.xarray, hvplot.pandas\n",
    "\n",
    "# numerics\n",
    "import numpy as np\n",
    "import pandas as pd\n",
    "import xarray as xr\n",
    "\n",
    "# aux\n",
    "from functools import reduce\n",
    "from operator import add"
   ]
  },
  {
   "cell_type": "code",
   "execution_count": null,
   "metadata": {},
   "outputs": [],
   "source": [
    "# create Dask cluster\n",
    "client = Client(**dask_kwargs)\n",
    "client"
   ]
  },
  {
   "cell_type": "markdown",
   "metadata": {},
   "source": [
    "## Get buoy locations from the buoy data set"
   ]
  },
  {
   "cell_type": "code",
   "execution_count": null,
   "metadata": {},
   "outputs": [],
   "source": [
    "buoy_positions = pd.read_csv(buoy_positions_file)\n",
    "added_buoy_positions =pd.DataFrame.from_records(added_buoy_positions)\n",
    "added_buoy_positions[\"lon\"] = (360.0 + added_buoy_positions[\"lon\"]) % 360.0\n",
    "buoy_positions = buoy_positions.merge(added_buoy_positions, how=\"outer\")\n",
    "buoy_positions.head(3)"
   ]
  },
  {
   "cell_type": "markdown",
   "metadata": {},
   "source": [
    "## Load the GFS and slab-model data"
   ]
  },
  {
   "cell_type": "code",
   "execution_count": null,
   "metadata": {},
   "outputs": [],
   "source": [
    "ds_GFS = xr.open_zarr(GFS_zarr_store)\n",
    "ds_slab = xr.open_zarr(slab_zarr_store)"
   ]
  },
  {
   "cell_type": "markdown",
   "metadata": {},
   "source": [
    "### Find start of forecast period\n",
    "\n",
    "We'll need the time stamp of the start of the forecasting data."
   ]
  },
  {
   "cell_type": "code",
   "execution_count": null,
   "metadata": {},
   "outputs": [],
   "source": [
    "start_of_forecast = (~ds_GFS[\"is_forecast\"].astype(bool)).sum().compute().data\n",
    "start_of_forecast = ds_GFS[\"time\"].data[max(0, start_of_forecast-1)]\n",
    "print(start_of_forecast)"
   ]
  },
  {
   "cell_type": "code",
   "execution_count": null,
   "metadata": {},
   "outputs": [],
   "source": [
    "good_forecast_time = np.timedelta64(good_forecast_days, \"D\")"
   ]
  },
  {
   "cell_type": "markdown",
   "metadata": {},
   "source": [
    "## Restrict regionally"
   ]
  },
  {
   "cell_type": "code",
   "execution_count": null,
   "metadata": {},
   "outputs": [],
   "source": [
    "ds_GFS = ds_GFS.sel(\n",
    "    lat=slice(lat_max, lat_min),\n",
    "    lon=slice(lon_min, lon_max),\n",
    ")\n",
    "ds_slab = ds_slab.sel(\n",
    "    lat=slice(lat_max, lat_min),\n",
    "    lon=slice(lon_min, lon_max),\n",
    ")"
   ]
  },
  {
   "cell_type": "code",
   "execution_count": null,
   "metadata": {},
   "outputs": [],
   "source": [
    "ds_slab"
   ]
  },
  {
   "cell_type": "code",
   "execution_count": null,
   "metadata": {},
   "outputs": [],
   "source": [
    "buoy_positions = buoy_positions.where(\n",
    "    buoy_positions[\"lat\"].apply(pd.Interval(lat_min, lat_max).__contains__)\n",
    "    & buoy_positions[\"lon\"].apply(pd.Interval(lon_min, lon_max).__contains__)\n",
    ").dropna()"
   ]
  },
  {
   "cell_type": "markdown",
   "metadata": {},
   "source": [
    "## Max near-inertial speed over good and whole forecast period\n",
    "\n",
    "We'll plot the time-maximum of near-inertial speed for the good forecast period and for the whole forecast period.\n",
    "\n",
    "First, we construct the plot."
   ]
  },
  {
   "cell_type": "code",
   "execution_count": null,
   "metadata": {},
   "outputs": [],
   "source": [
    "slab_umag_good_forecast_max = ds_slab[\"umag_slab\"].sel(\n",
    "    time=slice(start_of_forecast, start_of_forecast + good_forecast_time)\n",
    ").max(\"time\")\n",
    "slab_umag_whole_forecast_max = ds_slab[\"umag_slab\"].sel(\n",
    "    time=slice(start_of_forecast, None)\n",
    ").max(\"time\")\n",
    "\n",
    "near_inertial_max_plots = (\n",
    "    (\n",
    "        slab_umag_good_forecast_max.hvplot(\n",
    "            x=\"lon\", y=\"lat\", z=\"umag_slab\",\n",
    "            clim=(0, 1.5),\n",
    "            cmap=cmocean.cm.speed,\n",
    "            frame_width=800,\n",
    "            hover=False,\n",
    "            geo=True, coastline=True,\n",
    "            crs=ccrs.PlateCarree(), projection=ccrs.PlateCarree(),\n",
    "            title=\"Near-inertial speed max [m/s], good forecast\"\n",
    "        )\n",
    "        + slab_umag_whole_forecast_max.hvplot(\n",
    "            x=\"lon\", y=\"lat\", z=\"umag_slab\",\n",
    "            clim=(0, 1.5),\n",
    "            cmap=cmocean.cm.speed,\n",
    "            frame_width=800,\n",
    "            hover=False,\n",
    "            geo=True, coastline=True,\n",
    "            crs=ccrs.PlateCarree(), projection=ccrs.PlateCarree(),\n",
    "            title=\"Near-inertial speed max [m/s], whole forecast\"\n",
    "        )\n",
    "    ) * buoy_positions.hvplot.points(\n",
    "        y=\"lat\", x=\"lon\", geo=True, coastline=True,\n",
    "        marker='circle',\n",
    "        fill_color=None, line_color=\"black\",\n",
    "        line_width=1, size=60,\n",
    "    ) * gv.feature.grid()\n",
    ").cols(1)"
   ]
  },
  {
   "cell_type": "markdown",
   "metadata": {},
   "source": [
    "<span id=\"link_ni_current_maps\">&nbsp;</span>"
   ]
  },
  {
   "cell_type": "code",
   "execution_count": null,
   "metadata": {},
   "outputs": [],
   "source": [
    "display(near_inertial_max_plots)"
   ]
  },
  {
   "cell_type": "markdown",
   "metadata": {},
   "source": [
    "## Near-inertial current timeseries for buoy locations"
   ]
  },
  {
   "cell_type": "code",
   "execution_count": null,
   "metadata": {},
   "outputs": [],
   "source": [
    "time_series_plots = []\n",
    "time_formatter = DatetimeTickFormatter(\n",
    "    months='%b %Y', days='%b %d'\n",
    ")\n",
    "\n",
    "forecast_spans = (\n",
    "    hv.VSpan(\n",
    "        start_of_forecast, start_of_forecast + good_forecast_time\n",
    "    ).opts(padding=0, color='lightgray')\n",
    "    * hv.VSpan(\n",
    "        start_of_forecast + good_forecast_time, None\n",
    "    ).opts(padding=0, color='pink')\n",
    ")\n",
    "\n",
    "for lat, lon in zip(buoy_positions[\"lat\"], buoy_positions[\"lon\"]):\n",
    "    name = f\"{lat}N {lon}E\"\n",
    "    buoy_ds = ds_slab.sel(lat=lat, lon=lon, method=\"nearest\")\n",
    "    buoy_ds[\"U20\"] = ds_GFS[\"U20\"].sel(lat=lat, lon=lon, method=\"nearest\")\n",
    "    buoy_ds[\"V20\"] = ds_GFS[\"V20\"].sel(lat=lat, lon=lon, method=\"nearest\")\n",
    "    \n",
    "    if (buoy_ds[\"umag_slab\"].max(\"time\").isnull().data.compute()):\n",
    "        continue\n",
    "    time_series_plots.append(\n",
    "        (\n",
    "            (\n",
    "                forecast_spans.redim.label(y=\"u_slab\")\n",
    "                * buoy_ds[\"u_slab\"].hvplot.line(label=\"zonal near-inertial current\")\n",
    "                * buoy_ds[\"v_slab\"].hvplot.line(label=\"meridional near-inertial current\")\n",
    "                * buoy_ds[\"umag_slab\"].hvplot.line(label=\"near-inertial speed\")\n",
    "            ).options(\n",
    "                width=800, height=160, show_grid=True,\n",
    "                xaxis=None,\n",
    "                legend_cols=False, legend_position='right',\n",
    "                ylabel=\"current [m/s]\", title=name\n",
    "            )\n",
    "            + (\n",
    "                forecast_spans.redim.label(y=\"U20\")\n",
    "                * buoy_ds[\"U20\"].hvplot.line(label=\"zonal wind (20m)\")\n",
    "                * buoy_ds[\"V20\"].hvplot.line(label=\"meridional wind (20m)\")\n",
    "            ).options(\n",
    "                width=800, height=160, show_grid=True,\n",
    "                xformatter=time_formatter,\n",
    "                legend_cols=False, legend_position='right',\n",
    "                ylabel=\"wind [m/s]\", xlabel=\"\"\n",
    "            )\n",
    "        )\n",
    "    )\n",
    "\n",
    "time_series_plots = reduce(add, time_series_plots).cols(1)"
   ]
  },
  {
   "cell_type": "markdown",
   "metadata": {},
   "source": [
    "<span id=\"link_ni_current_timeseries\">&nbsp;</span>"
   ]
  },
  {
   "cell_type": "code",
   "execution_count": null,
   "metadata": {},
   "outputs": [],
   "source": [
    "display(time_series_plots)"
   ]
  },
  {
   "cell_type": "markdown",
   "metadata": {},
   "source": [
    "## Atmospheric conditions over forecast period\n",
    "\n",
    "To get a feeling for the atmospheric conditions, we'll plot sea-level pressure anomalies every 12 hours for 3 days before and throughout the whole forecast period.\n",
    "\n",
    "Anomalies are calculated relative to the whole data period (usually 30+14 days)."
   ]
  },
  {
   "cell_type": "code",
   "execution_count": null,
   "metadata": {},
   "outputs": [],
   "source": [
    "SLP = ds_GFS[\"SLP\"].compute()\n",
    "SLP_mean = SLP.mean(\"time\")\n",
    "SLP_anomaly = (SLP - SLP_mean)"
   ]
  },
  {
   "cell_type": "code",
   "execution_count": null,
   "metadata": {},
   "outputs": [],
   "source": [
    "plot_every = np.timedelta64(12, \"h\")\n",
    "max_iter = ((SLP_anomaly.coords[\"time\"].max(\"time\") - start_of_forecast) / plot_every).item() // 1 + 1\n",
    "\n",
    "plot_times = [\n",
    "    (start_of_forecast + n * plot_every)\n",
    "    for n in range(-6, int(max_iter))\n",
    "]\n",
    "\n",
    "plots = []\n",
    "\n",
    "for plot_time in plot_times:\n",
    "    title = f\"SLP anomaly [hPa], {pd.Timestamp(plot_time).strftime('%Y-%m-%d %H:%M:%S UTC')}\"\n",
    "    if plot_time > start_of_forecast:\n",
    "        title += f\"\\t(forecast + {(plot_time - start_of_forecast) / np.timedelta64(1, 'h')}h)\"\n",
    "    try:\n",
    "        plots.append(\n",
    "            (\n",
    "                SLP_anomaly.sel(time=plot_time, method=\"nearest\").compute().hvplot(\n",
    "                    clim=(-10, 10),\n",
    "                    cmap=cmocean.cm.delta,\n",
    "                    frame_width=800,\n",
    "                    geo=True, coastline=True,\n",
    "                    crs=ccrs.PlateCarree(), projection=ccrs.PlateCarree(),\n",
    "                    hover=False\n",
    "                )\n",
    "                * buoy_positions.hvplot.points(\n",
    "                    y=\"lat\", x=\"lon\", geo=True, coastline=True,\n",
    "                    marker='circle',\n",
    "                    fill_color=None, line_color=\"black\",\n",
    "                    line_width=1.5, size=60,\n",
    "                )\n",
    "                * gv.feature.grid()\n",
    "            ).opts(\n",
    "                title=title,\n",
    "                show_grid=True\n",
    "            )\n",
    "        )    \n",
    "    except Exception as e:\n",
    "        print(f\"for {plot_time} I got: {e}\")\n",
    "    \n",
    "slp_plot = reduce(add, plots).cols(1)"
   ]
  },
  {
   "cell_type": "markdown",
   "metadata": {},
   "source": [
    "<span id=\"link_atmospheric_conditions\">&nbsp;</span>"
   ]
  },
  {
   "cell_type": "code",
   "execution_count": null,
   "metadata": {},
   "outputs": [],
   "source": [
    "display(slp_plot)"
   ]
  },
  {
   "cell_type": "markdown",
   "metadata": {},
   "source": [
    "---"
   ]
  },
  {
   "cell_type": "code",
   "execution_count": null,
   "metadata": {},
   "outputs": [],
   "source": [
    "!echo \"Finished: $(date -Ins) (UTC)\""
   ]
  },
  {
   "cell_type": "markdown",
   "metadata": {},
   "source": [
    "---\n",
    "See https://github.com/willirath/nia-prediction-low-latitudes for details."
   ]
  }
 ],
 "metadata": {
  "kernelspec": {
   "display_name": "Python 3",
   "language": "python",
   "name": "python3"
  },
  "language_info": {
   "codemirror_mode": {
    "name": "ipython",
    "version": 3
   },
   "file_extension": ".py",
   "mimetype": "text/x-python",
   "name": "python",
   "nbconvert_exporter": "python",
   "pygments_lexer": "ipython3",
   "version": "3.7.6"
  }
 },
 "nbformat": 4,
 "nbformat_minor": 4
}
