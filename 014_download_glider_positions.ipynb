{
 "cells": [
  {
   "cell_type": "code",
   "execution_count": 1,
   "metadata": {},
   "outputs": [],
   "source": [
    "glider_names = [f\"ifm{n:02d}\" for n in range(1, 16)]\n",
    "max_depl_num = 99"
   ]
  },
  {
   "cell_type": "code",
   "execution_count": 2,
   "metadata": {},
   "outputs": [
    {
     "name": "stdout",
     "output_type": "stream",
     "text": [
      "['ifm01', 'ifm02', 'ifm03', 'ifm04', 'ifm05', 'ifm06', 'ifm07', 'ifm08', 'ifm09', 'ifm10', 'ifm11', 'ifm12', 'ifm13', 'ifm14', 'ifm15']\n"
     ]
    }
   ],
   "source": [
    "print(glider_names)"
   ]
  },
  {
   "cell_type": "code",
   "execution_count": 3,
   "metadata": {},
   "outputs": [],
   "source": [
    "import requests\n",
    "import re\n",
    "import pandas as pd\n",
    "from time import sleep"
   ]
  },
  {
   "cell_type": "code",
   "execution_count": 4,
   "metadata": {},
   "outputs": [],
   "source": [
    "t, lat, lon = requests.get(\"https://data.geomar.de/realtime/data/project/ifm14/ifm14_pos.json\").json()"
   ]
  },
  {
   "cell_type": "code",
   "execution_count": 5,
   "metadata": {},
   "outputs": [],
   "source": [
    "def read_glider_pos_json(glider_name):\n",
    "    url = f\"https://data.geomar.de/realtime/data/project/{glider_name}/{glider_name}_pos.json\"\n",
    "    try:\n",
    "        sleep(0.5)\n",
    "        glider_pos_data = requests.get(url, timeout=1).json()\n",
    "    except:\n",
    "        print(f\"failed for {glider_name}\")\n",
    "        sleep(2.0)\n",
    "        try:\n",
    "            \n",
    "            glider_pos_data = requests.get(url, timeout=5).json()\n",
    "        except:\n",
    "            print(f\"failed for {glider_name}\")\n",
    "            glider_pos_data = [None, None, None]\n",
    "    return {\n",
    "        \"time\": glider_pos_data[0],\n",
    "        \"latitude\": glider_pos_data[1],\n",
    "        \"longitude\": glider_pos_data[2],\n",
    "    }"
   ]
  },
  {
   "cell_type": "code",
   "execution_count": 6,
   "metadata": {},
   "outputs": [
    {
     "name": "stdout",
     "output_type": "stream",
     "text": [
      "failed for ifm01\n",
      "failed for ifm01\n",
      "failed for ifm02\n",
      "failed for ifm04\n",
      "failed for ifm04\n",
      "failed for ifm05\n",
      "failed for ifm05\n",
      "failed for ifm06\n",
      "failed for ifm06\n",
      "failed for ifm10\n",
      "failed for ifm10\n",
      "CPU times: user 585 ms, sys: 95.9 ms, total: 680 ms\n",
      "Wall time: 32.5 s\n"
     ]
    }
   ],
   "source": [
    "%%time\n",
    "\n",
    "positions = {\n",
    "    glider_name: read_glider_pos_json(glider_name)\n",
    "    for glider_name in glider_names\n",
    "}"
   ]
  },
  {
   "cell_type": "code",
   "execution_count": 7,
   "metadata": {},
   "outputs": [],
   "source": [
    "positions = pd.DataFrame.from_dict(positions, orient=\"index\")"
   ]
  },
  {
   "cell_type": "code",
   "execution_count": 8,
   "metadata": {},
   "outputs": [],
   "source": [
    "positions[\"platform\"] = positions.index"
   ]
  },
  {
   "cell_type": "code",
   "execution_count": 9,
   "metadata": {},
   "outputs": [],
   "source": [
    "positions[\"time\"] = positions[\"time\"].apply(pd.Timestamp)"
   ]
  },
  {
   "cell_type": "code",
   "execution_count": 10,
   "metadata": {},
   "outputs": [
    {
     "data": {
      "text/html": [
       "<div>\n",
       "<style scoped>\n",
       "    .dataframe tbody tr th:only-of-type {\n",
       "        vertical-align: middle;\n",
       "    }\n",
       "\n",
       "    .dataframe tbody tr th {\n",
       "        vertical-align: top;\n",
       "    }\n",
       "\n",
       "    .dataframe thead th {\n",
       "        text-align: right;\n",
       "    }\n",
       "</style>\n",
       "<table border=\"1\" class=\"dataframe\">\n",
       "  <thead>\n",
       "    <tr style=\"text-align: right;\">\n",
       "      <th></th>\n",
       "      <th>time</th>\n",
       "      <th>latitude</th>\n",
       "      <th>longitude</th>\n",
       "      <th>platform</th>\n",
       "    </tr>\n",
       "  </thead>\n",
       "  <tbody>\n",
       "    <tr>\n",
       "      <th>ifm01</th>\n",
       "      <td>NaT</td>\n",
       "      <td>None</td>\n",
       "      <td>None</td>\n",
       "      <td>ifm01</td>\n",
       "    </tr>\n",
       "    <tr>\n",
       "      <th>ifm02</th>\n",
       "      <td>2018-08-26 21:46:07</td>\n",
       "      <td>27.7938</td>\n",
       "      <td>-90.0739</td>\n",
       "      <td>ifm02</td>\n",
       "    </tr>\n",
       "    <tr>\n",
       "      <th>ifm03</th>\n",
       "      <td>2020-02-03 16:41:59</td>\n",
       "      <td>12.0177</td>\n",
       "      <td>-59.2430</td>\n",
       "      <td>ifm03</td>\n",
       "    </tr>\n",
       "    <tr>\n",
       "      <th>ifm04</th>\n",
       "      <td>NaT</td>\n",
       "      <td>None</td>\n",
       "      <td>None</td>\n",
       "      <td>ifm04</td>\n",
       "    </tr>\n",
       "    <tr>\n",
       "      <th>ifm05</th>\n",
       "      <td>NaT</td>\n",
       "      <td>None</td>\n",
       "      <td>None</td>\n",
       "      <td>ifm05</td>\n",
       "    </tr>\n",
       "    <tr>\n",
       "      <th>ifm06</th>\n",
       "      <td>NaT</td>\n",
       "      <td>None</td>\n",
       "      <td>None</td>\n",
       "      <td>ifm06</td>\n",
       "    </tr>\n",
       "    <tr>\n",
       "      <th>ifm07</th>\n",
       "      <td>2017-06-10 16:15:52</td>\n",
       "      <td>-12.5398</td>\n",
       "      <td>-77.9009</td>\n",
       "      <td>ifm07</td>\n",
       "    </tr>\n",
       "    <tr>\n",
       "      <th>ifm08</th>\n",
       "      <td>2019-12-10 08:13:33</td>\n",
       "      <td>17.8038</td>\n",
       "      <td>-22.4636</td>\n",
       "      <td>ifm08</td>\n",
       "    </tr>\n",
       "    <tr>\n",
       "      <th>ifm09</th>\n",
       "      <td>2020-02-09 14:51:30</td>\n",
       "      <td>13.8331</td>\n",
       "      <td>-57.3889</td>\n",
       "      <td>ifm09</td>\n",
       "    </tr>\n",
       "    <tr>\n",
       "      <th>ifm10</th>\n",
       "      <td>NaT</td>\n",
       "      <td>None</td>\n",
       "      <td>None</td>\n",
       "      <td>ifm10</td>\n",
       "    </tr>\n",
       "    <tr>\n",
       "      <th>ifm11</th>\n",
       "      <td>2019-11-22 11:24:27</td>\n",
       "      <td>16.8883</td>\n",
       "      <td>-24.9984</td>\n",
       "      <td>ifm11</td>\n",
       "    </tr>\n",
       "    <tr>\n",
       "      <th>ifm12</th>\n",
       "      <td>2020-02-17 11:56:12</td>\n",
       "      <td>12.5908</td>\n",
       "      <td>-57.3730</td>\n",
       "      <td>ifm12</td>\n",
       "    </tr>\n",
       "    <tr>\n",
       "      <th>ifm13</th>\n",
       "      <td>2020-01-24 18:26:49</td>\n",
       "      <td>11.5479</td>\n",
       "      <td>-57.9964</td>\n",
       "      <td>ifm13</td>\n",
       "    </tr>\n",
       "    <tr>\n",
       "      <th>ifm14</th>\n",
       "      <td>2019-12-10 16:02:50</td>\n",
       "      <td>17.5700</td>\n",
       "      <td>-21.1419</td>\n",
       "      <td>ifm14</td>\n",
       "    </tr>\n",
       "    <tr>\n",
       "      <th>ifm15</th>\n",
       "      <td>2019-12-18 16:20:26</td>\n",
       "      <td>14.6628</td>\n",
       "      <td>-25.5229</td>\n",
       "      <td>ifm15</td>\n",
       "    </tr>\n",
       "  </tbody>\n",
       "</table>\n",
       "</div>"
      ],
      "text/plain": [
       "                     time  latitude longitude platform\n",
       "ifm01                 NaT      None      None    ifm01\n",
       "ifm02 2018-08-26 21:46:07   27.7938  -90.0739    ifm02\n",
       "ifm03 2020-02-03 16:41:59   12.0177  -59.2430    ifm03\n",
       "ifm04                 NaT      None      None    ifm04\n",
       "ifm05                 NaT      None      None    ifm05\n",
       "ifm06                 NaT      None      None    ifm06\n",
       "ifm07 2017-06-10 16:15:52  -12.5398  -77.9009    ifm07\n",
       "ifm08 2019-12-10 08:13:33   17.8038  -22.4636    ifm08\n",
       "ifm09 2020-02-09 14:51:30   13.8331  -57.3889    ifm09\n",
       "ifm10                 NaT      None      None    ifm10\n",
       "ifm11 2019-11-22 11:24:27   16.8883  -24.9984    ifm11\n",
       "ifm12 2020-02-17 11:56:12   12.5908  -57.3730    ifm12\n",
       "ifm13 2020-01-24 18:26:49   11.5479  -57.9964    ifm13\n",
       "ifm14 2019-12-10 16:02:50   17.5700  -21.1419    ifm14\n",
       "ifm15 2019-12-18 16:20:26   14.6628  -25.5229    ifm15"
      ]
     },
     "execution_count": 10,
     "metadata": {},
     "output_type": "execute_result"
    }
   ],
   "source": [
    "positions"
   ]
  },
  {
   "cell_type": "code",
   "execution_count": 11,
   "metadata": {},
   "outputs": [
    {
     "data": {
      "text/plain": [
       "ifm01                   NaT\n",
       "ifm02   2018-08-26 21:46:07\n",
       "ifm03   2020-02-03 16:41:59\n",
       "ifm04                   NaT\n",
       "ifm05                   NaT\n",
       "ifm06                   NaT\n",
       "ifm07   2017-06-10 16:15:52\n",
       "ifm08   2019-12-10 08:13:33\n",
       "ifm09   2020-02-09 14:51:30\n",
       "ifm10                   NaT\n",
       "ifm11   2019-11-22 11:24:27\n",
       "ifm12   2020-02-17 11:56:12\n",
       "ifm13   2020-01-24 18:26:49\n",
       "ifm14   2019-12-10 16:02:50\n",
       "ifm15   2019-12-18 16:20:26\n",
       "Name: time, dtype: datetime64[ns]"
      ]
     },
     "execution_count": 11,
     "metadata": {},
     "output_type": "execute_result"
    }
   ],
   "source": [
    "positions[\"time\"].apply(pd.Timestamp)"
   ]
  },
  {
   "cell_type": "code",
   "execution_count": 12,
   "metadata": {},
   "outputs": [],
   "source": [
    "!mkdir -p data/\n",
    "positions.dropna().to_csv(\"data/gliders.csv\")"
   ]
  },
  {
   "cell_type": "code",
   "execution_count": 13,
   "metadata": {},
   "outputs": [
    {
     "name": "stdout",
     "output_type": "stream",
     "text": [
      ",time,latitude,longitude,platform\n",
      "ifm02,2018-08-26 21:46:07,27.7938,-90.0739,ifm02\n",
      "ifm03,2020-02-03 16:41:59,12.0177,-59.2430,ifm03\n",
      "ifm07,2017-06-10 16:15:52,-12.5398,-77.9009,ifm07\n",
      "ifm08,2019-12-10 08:13:33,17.8038,-22.4636,ifm08\n",
      "ifm09,2020-02-09 14:51:30,13.8331,-57.3889,ifm09\n",
      "ifm11,2019-11-22 11:24:27,16.8883,-24.9984,ifm11\n",
      "ifm12,2020-02-17 11:56:12,12.5908,-57.3730,ifm12\n",
      "ifm13,2020-01-24 18:26:49,11.5479,-57.9964,ifm13\n",
      "ifm14,2019-12-10 16:02:50,17.5700,-21.1419,ifm14\n",
      "ifm15,2019-12-18 16:20:26,14.6628,-25.5229,ifm15\n"
     ]
    }
   ],
   "source": [
    "!cat data/gliders.csv"
   ]
  }
 ],
 "metadata": {
  "kernelspec": {
   "display_name": "Python 3",
   "language": "python",
   "name": "python3"
  },
  "language_info": {
   "codemirror_mode": {
    "name": "ipython",
    "version": 3
   },
   "file_extension": ".py",
   "mimetype": "text/x-python",
   "name": "python",
   "nbconvert_exporter": "python",
   "pygments_lexer": "ipython3",
   "version": "3.7.6"
  }
 },
 "nbformat": 4,
 "nbformat_minor": 4
}
