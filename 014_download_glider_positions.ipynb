{
 "cells": [
  {
   "cell_type": "code",
   "execution_count": null,
   "metadata": {},
   "outputs": [],
   "source": [
    "glider_names = [f\"ifm{n:02d}\" for n in range(1, 16)]\n",
    "max_depl_num = 99"
   ]
  },
  {
   "cell_type": "code",
   "execution_count": null,
   "metadata": {},
   "outputs": [],
   "source": [
    "print(glider_names)"
   ]
  },
  {
   "cell_type": "code",
   "execution_count": null,
   "metadata": {},
   "outputs": [],
   "source": [
    "import requests\n",
    "import re\n",
    "import pandas as pd"
   ]
  },
  {
   "cell_type": "code",
   "execution_count": null,
   "metadata": {},
   "outputs": [],
   "source": [
    "def find_latest_deployment_url(glider_name, max_depl_num=max_depl_num):\n",
    "    url_scheme = \"https://gliderweb.geomar.de/html/{glider_name}/depl{deployment:02d}/diveinfo.txt\"\n",
    "    last_good_url = None\n",
    "    for deployment in range(1, max_depl_num + 1):\n",
    "        url = url_scheme.format(\n",
    "            glider_name=glider_name,\n",
    "            deployment=deployment,\n",
    "        )\n",
    "        status = requests.get(url).status_code\n",
    "        if status == 404:\n",
    "            break\n",
    "        else:\n",
    "            last_good_url = url\n",
    "    return last_good_url"
   ]
  },
  {
   "cell_type": "code",
   "execution_count": null,
   "metadata": {},
   "outputs": [],
   "source": [
    "latest_deployment_urls = {\n",
    "    glider_name: find_latest_deployment_url(glider_name)\n",
    "    for glider_name in glider_names\n",
    "}"
   ]
  },
  {
   "cell_type": "code",
   "execution_count": null,
   "metadata": {},
   "outputs": [],
   "source": [
    "latest_deployment_urls"
   ]
  },
  {
   "cell_type": "code",
   "execution_count": null,
   "metadata": {},
   "outputs": [],
   "source": [
    "dive_infos = {k: requests.get(v).content for k, v in latest_deployment_urls.items()}"
   ]
  },
  {
   "cell_type": "code",
   "execution_count": null,
   "metadata": {},
   "outputs": [],
   "source": [
    "def find_latest_position(dive_info):\n",
    "    lines = dive_info.decode(\"utf8\").split(\"\\n\")\n",
    "\n",
    "    first_pos_line = next(\n",
    "        (n for n in range(len(lines)) if lines[n] == \"Position:\"),\n",
    "        None\n",
    "    )\n",
    "    \n",
    "    if first_pos_line is not None:\n",
    "        return lines[first_pos_line + 1]\n",
    "    else:\n",
    "        return \"\""
   ]
  },
  {
   "cell_type": "code",
   "execution_count": null,
   "metadata": {},
   "outputs": [],
   "source": [
    "def parse_pos_string(pos_string):\n",
    "    p = re.compile((\n",
    "        r'(?P<latdeg>\\d+)\\^o\\s*(?P<latmin>\\d+\\.\\d+)\\'(?P<latdir>[N,S])'\n",
    "        r'\\s*'\n",
    "        r'(?P<londeg>\\d+)\\^o\\s*(?P<lonmin>\\d+\\.\\d+)\\'(?P<londir>[W,E])'\n",
    "    ))\n",
    "    m = p.match(pos_string)\n",
    "    if m is not None:\n",
    "        lat = (\n",
    "            (int(m.group(\"latdir\") == \"N\") - int(m.group(\"latdir\") == \"S\"))\n",
    "            * int(m.group(\"latdeg\")) + 1 / 60 * float(m.group(\"latmin\"))\n",
    "        )\n",
    "        lon = (\n",
    "            (int(m.group(\"londir\") == \"E\") - int(m.group(\"londir\") == \"W\"))\n",
    "            * int(m.group(\"londeg\")) + 1 / 60 * float(m.group(\"lonmin\"))\n",
    "        )\n",
    "        return {\"latitude\": lat, \"longitude\": lon}\n",
    "    else:\n",
    "        return {\"latitude\": None, \"longitude\": None}"
   ]
  },
  {
   "cell_type": "code",
   "execution_count": null,
   "metadata": {},
   "outputs": [],
   "source": [
    "positions = {\n",
    "    glider_name: parse_pos_string(find_latest_position(dive_info))\n",
    "    for glider_name, dive_info in dive_infos.items()\n",
    "}"
   ]
  },
  {
   "cell_type": "code",
   "execution_count": null,
   "metadata": {},
   "outputs": [],
   "source": [
    "positions = pd.DataFrame.from_dict(positions, orient=\"index\")"
   ]
  },
  {
   "cell_type": "code",
   "execution_count": null,
   "metadata": {},
   "outputs": [],
   "source": [
    "positions[\"platform\"] = positions.index"
   ]
  },
  {
   "cell_type": "code",
   "execution_count": null,
   "metadata": {},
   "outputs": [],
   "source": [
    "positions"
   ]
  },
  {
   "cell_type": "code",
   "execution_count": null,
   "metadata": {},
   "outputs": [],
   "source": [
    "positions.dropna().to_csv(\"data/gliders.csv\")"
   ]
  }
 ],
 "metadata": {
  "kernelspec": {
   "display_name": "Python 3",
   "language": "python",
   "name": "python3"
  },
  "language_info": {
   "codemirror_mode": {
    "name": "ipython",
    "version": 3
   },
   "file_extension": ".py",
   "mimetype": "text/x-python",
   "name": "python",
   "nbconvert_exporter": "python",
   "pygments_lexer": "ipython3",
   "version": "3.7.6"
  }
 },
 "nbformat": 4,
 "nbformat_minor": 4
}
