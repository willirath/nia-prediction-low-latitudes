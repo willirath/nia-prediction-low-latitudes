{
 "cells": [
  {
   "cell_type": "markdown",
   "metadata": {},
   "source": [
    "#  Download platform positions\n",
    "\n",
    "We'll use the `maps.geomar.de` API to obtain positions and time stamps for seagoing platforms.\n",
    "Results will be stored in: `data/platforms.csv`"
   ]
  },
  {
   "cell_type": "code",
   "execution_count": null,
   "metadata": {},
   "outputs": [],
   "source": [
    "import cartopy\n",
    "from cartopy.mpl.gridliner import LONGITUDE_FORMATTER, LATITUDE_FORMATTER\n",
    "import datetime\n",
    "import pandas as pd\n",
    "from matplotlib import pyplot as plt\n",
    "import matplotlib.ticker as mticker\n",
    "import requests\n",
    "from time import sleep\n",
    "\n",
    "\n",
    "KNOWN_PLATFORMS=[\"AL\", \"M\", \"MSM\", \"SO\"]\n",
    "\n",
    "\n",
    "def get_platform_info(platform: str = \"M\"):\n",
    "    \"\"\"Get current status for platform.\n",
    "    \n",
    "    Parameters\n",
    "    ----------\n",
    "    platform : str\n",
    "        Platform ID. Possible values are \"SO\", \"M\", \"MSM\" und AL\".\n",
    "        Defaults to \"M\".\n",
    "        \n",
    "    Returns\n",
    "    -------\n",
    "    dict\n",
    "        \"platform\": Platform id.\n",
    "        \"leg\": Leg info.\n",
    "        \"lon\": Longitude.\n",
    "        \"lat\": Latitude.\n",
    "        \"time\": Time stamp of position.\n",
    "\n",
    "    \"\"\"\n",
    "    try:\n",
    "        platform_info = requests.get(\n",
    "            f\"https://maps.geomar.de/mapgen_ds/platforms/currentloc?id={platform}\",\n",
    "            timeout=2.0\n",
    "        ).json()\n",
    "    except requests.exceptions.Timeout:\n",
    "        # retry once\n",
    "        try:\n",
    "            sleep(3.0)\n",
    "            platform_info = requests.get(\n",
    "                f\"https://maps.geomar.de/mapgen_ds/platforms/currentloc?id={platform}\",\n",
    "                timeout=4.0\n",
    "            ).json()\n",
    "        except requests.exceptions.Timeout:\n",
    "            return {}\n",
    "    \n",
    "    longitude, latitude = platform_info[\"geometry\"][\"coordinates\"]\n",
    "    time = datetime.datetime.strptime(\n",
    "        platform_info[\"properties\"][\"data_origin\"].split(\"_\")[-1],\n",
    "        \"%Y-%m-%d %H:%M:%S\"\n",
    "    )\n",
    "    \n",
    "    return {\n",
    "        \"platform\": platform_info[\"properties\"][\"platform\"],\n",
    "        \"leg\": platform_info[\"properties\"][\"leg_label\"],\n",
    "        \"time\": time,\n",
    "        \"latitude\": latitude,\n",
    "        \"longitude\": longitude,\n",
    "    }\n",
    "\n",
    "\n",
    "def get_all_platforms(platforms: list = None):\n",
    "    if platforms is None:\n",
    "        platforms = KNOWN_PLATFORMS\n",
    "    return {\n",
    "        pfname: get_platform_info(pfname) for pfname in platforms\n",
    "    }\n",
    "\n",
    "\n",
    "def get_all_platforms_df(platforms: list = None):\n",
    "    return pd.DataFrame(get_all_platforms(platforms)).T"
   ]
  },
  {
   "cell_type": "code",
   "execution_count": null,
   "metadata": {},
   "outputs": [],
   "source": [
    "platforms = get_all_platforms_df([\"AL\", \"M\", \"MSM\", \"SO\"])"
   ]
  },
  {
   "cell_type": "code",
   "execution_count": null,
   "metadata": {},
   "outputs": [],
   "source": [
    "platforms"
   ]
  },
  {
   "cell_type": "code",
   "execution_count": null,
   "metadata": {},
   "outputs": [],
   "source": [
    "!mkdir -p data/"
   ]
  },
  {
   "cell_type": "code",
   "execution_count": null,
   "metadata": {},
   "outputs": [],
   "source": [
    "platforms.to_csv(\"data/platforms.csv\")"
   ]
  },
  {
   "cell_type": "code",
   "execution_count": null,
   "metadata": {},
   "outputs": [],
   "source": [
    "fig, ax = plt.subplots(\n",
    "    1, 1,\n",
    "    subplot_kw={\"projection\": cartopy.crs.PlateCarree()}\n",
    ")\n",
    "\n",
    "platforms.plot.scatter(\n",
    "    x=\"longitude\", y=\"latitude\", s=50,\n",
    "    ax=ax, transform=cartopy.crs.PlateCarree()\n",
    ")\n",
    "for i, platf in platforms.iterrows():\n",
    "    ax.annotate(\n",
    "        platf[\"platform\"],\n",
    "        (platf[\"longitude\"], platf[\"latitude\"]),\n",
    "        (platf[\"longitude\"] + 0.6, platf[\"latitude\"] + 0.6),\n",
    "        transform=cartopy.crs.PlateCarree(),\n",
    "        fontsize=14, fontweight=\"bold\", color=\"black\"\n",
    "    )\n",
    "\n",
    "ax.coastlines()\n",
    "\n",
    "gl = ax.gridlines(\n",
    "    crs=cartopy.crs.PlateCarree(), draw_labels=True,\n",
    "    linewidth=2, color='gray', alpha=0.5, linestyle='--'\n",
    ")\n",
    "\n",
    "gl.xformatter = LONGITUDE_FORMATTER\n",
    "gl.yformatter = LATITUDE_FORMATTER\n",
    "# gl.xlabel_style = {'size': 15, 'color': 'gray'}\n",
    "# gl.xlabel_style = {'color': 'red', 'weight': 'bold'}"
   ]
  }
 ],
 "metadata": {
  "kernelspec": {
   "display_name": "Python 3",
   "language": "python",
   "name": "python3"
  },
  "language_info": {
   "codemirror_mode": {
    "name": "ipython",
    "version": 3
   },
   "file_extension": ".py",
   "mimetype": "text/x-python",
   "name": "python",
   "nbconvert_exporter": "python",
   "pygments_lexer": "ipython3",
   "version": "3.7.6"
  }
 },
 "nbformat": 4,
 "nbformat_minor": 4
}
