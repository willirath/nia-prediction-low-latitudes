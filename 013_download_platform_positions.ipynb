{
 "cells": [
  {
   "cell_type": "markdown",
   "metadata": {},
   "source": [
    "#  Download platform positions\n",
    "\n",
    "We'll use the `maps.geomar.de` API to obtain positions and time stamps for seagoing platforms.\n",
    "Results will be stored in: `data/platforms.csv`"
   ]
  },
  {
   "cell_type": "code",
   "execution_count": 1,
   "metadata": {},
   "outputs": [],
   "source": [
    "import cartopy\n",
    "from cartopy.mpl.gridliner import LONGITUDE_FORMATTER, LATITUDE_FORMATTER\n",
    "import datetime\n",
    "import pandas as pd\n",
    "from matplotlib import pyplot as plt\n",
    "import matplotlib.ticker as mticker\n",
    "import requests\n",
    "from time import sleep\n",
    "\n",
    "\n",
    "KNOWN_PLATFORMS=[\"AL\", \"M\", \"MSM\", \"SO\"]\n",
    "\n",
    "\n",
    "def get_platform_info(platform: str = \"M\"):\n",
    "    \"\"\"Get current status for platform.\n",
    "    \n",
    "    Parameters\n",
    "    ----------\n",
    "    platform : str\n",
    "        Platform ID. Possible values are \"SO\", \"M\", \"MSM\" und AL\".\n",
    "        Defaults to \"M\".\n",
    "        \n",
    "    Returns\n",
    "    -------\n",
    "    dict\n",
    "        \"platform\": Platform id.\n",
    "        \"leg\": Leg info.\n",
    "        \"lon\": Longitude.\n",
    "        \"lat\": Latitude.\n",
    "        \"time\": Time stamp of position.\n",
    "\n",
    "    \"\"\"\n",
    "    try:\n",
    "        platform_info = requests.get(\n",
    "            f\"https://maps.geomar.de/mapgen_ds/platforms/currentloc?id={platform}\",\n",
    "            timeout=2.0\n",
    "        ).json()\n",
    "    except requests.exceptions.Timeout:\n",
    "        # retry once\n",
    "        try:\n",
    "            sleep(3.0)\n",
    "            platform_info = requests.get(\n",
    "                f\"https://maps.geomar.de/mapgen_ds/platforms/currentloc?id={platform}\",\n",
    "                timeout=4.0\n",
    "            ).json()\n",
    "        except requests.exceptions.Timeout:\n",
    "            return {}\n",
    "    \n",
    "    longitude, latitude = platform_info[\"geometry\"][\"coordinates\"]\n",
    "    time = datetime.datetime.strptime(\n",
    "        platform_info[\"properties\"][\"data_origin\"].split(\"_\")[-1],\n",
    "        \"%Y-%m-%d %H:%M:%S\"\n",
    "    )\n",
    "    \n",
    "    return {\n",
    "        \"platform\": platform_info[\"properties\"][\"platform\"],\n",
    "        \"leg\": platform_info[\"properties\"][\"leg_label\"],\n",
    "        \"time\": time,\n",
    "        \"latitude\": latitude,\n",
    "        \"longitude\": longitude,\n",
    "    }\n",
    "\n",
    "\n",
    "def get_all_platforms(platforms: list = None):\n",
    "    if platforms is None:\n",
    "        platforms = KNOWN_PLATFORMS\n",
    "    return {\n",
    "        pfname: get_platform_info(pfname) for pfname in platforms\n",
    "    }\n",
    "\n",
    "\n",
    "def get_all_platforms_df(platforms: list = None):\n",
    "    return pd.DataFrame(get_all_platforms(platforms)).T"
   ]
  },
  {
   "cell_type": "code",
   "execution_count": 2,
   "metadata": {},
   "outputs": [],
   "source": [
    "platforms = get_all_platforms_df([\"AL\", \"M\", \"MSM\", \"SO\"])"
   ]
  },
  {
   "cell_type": "code",
   "execution_count": 3,
   "metadata": {},
   "outputs": [
    {
     "data": {
      "text/html": [
       "<div>\n",
       "<style scoped>\n",
       "    .dataframe tbody tr th:only-of-type {\n",
       "        vertical-align: middle;\n",
       "    }\n",
       "\n",
       "    .dataframe tbody tr th {\n",
       "        vertical-align: top;\n",
       "    }\n",
       "\n",
       "    .dataframe thead th {\n",
       "        text-align: right;\n",
       "    }\n",
       "</style>\n",
       "<table border=\"1\" class=\"dataframe\">\n",
       "  <thead>\n",
       "    <tr style=\"text-align: right;\">\n",
       "      <th></th>\n",
       "      <th>platform</th>\n",
       "      <th>leg</th>\n",
       "      <th>time</th>\n",
       "      <th>latitude</th>\n",
       "      <th>longitude</th>\n",
       "    </tr>\n",
       "  </thead>\n",
       "  <tbody>\n",
       "    <tr>\n",
       "      <th>AL</th>\n",
       "      <td>AL</td>\n",
       "      <td>AL556</td>\n",
       "      <td>2021-05-19 14:19:19</td>\n",
       "      <td>55.4562</td>\n",
       "      <td>15.9044</td>\n",
       "    </tr>\n",
       "    <tr>\n",
       "      <th>M</th>\n",
       "      <td>M</td>\n",
       "      <td>NA</td>\n",
       "      <td>2021-05-19 14:15:48</td>\n",
       "      <td>31.8578</td>\n",
       "      <td>-35.3865</td>\n",
       "    </tr>\n",
       "    <tr>\n",
       "      <th>MSM</th>\n",
       "      <td>MSM</td>\n",
       "      <td>NA</td>\n",
       "      <td>2021-05-19 14:15:25</td>\n",
       "      <td>55.2592</td>\n",
       "      <td>4.71612</td>\n",
       "    </tr>\n",
       "    <tr>\n",
       "      <th>SO</th>\n",
       "      <td>SO</td>\n",
       "      <td>SO283</td>\n",
       "      <td>2021-05-19 14:12:29</td>\n",
       "      <td>46.8655</td>\n",
       "      <td>-7.45723</td>\n",
       "    </tr>\n",
       "  </tbody>\n",
       "</table>\n",
       "</div>"
      ],
      "text/plain": [
       "    platform    leg                time latitude longitude\n",
       "AL        AL  AL556 2021-05-19 14:19:19  55.4562   15.9044\n",
       "M          M     NA 2021-05-19 14:15:48  31.8578  -35.3865\n",
       "MSM      MSM     NA 2021-05-19 14:15:25  55.2592   4.71612\n",
       "SO        SO  SO283 2021-05-19 14:12:29  46.8655  -7.45723"
      ]
     },
     "execution_count": 3,
     "metadata": {},
     "output_type": "execute_result"
    }
   ],
   "source": [
    "platforms"
   ]
  },
  {
   "cell_type": "code",
   "execution_count": 4,
   "metadata": {},
   "outputs": [],
   "source": [
    "platforms.to_csv(\"platforms.csv\")"
   ]
  },
  {
   "cell_type": "code",
   "execution_count": 5,
   "metadata": {},
   "outputs": [
    {
     "data": {
      "image/png": "[encoded data removed]",
      "text/plain": [
       "<Figure size 432x288 with 1 Axes>"
      ]
     },
     "metadata": {
      "needs_background": "light"
     },
     "output_type": "display_data"
    }
   ],
   "source": [
    "fig, ax = plt.subplots(\n",
    "    1, 1,\n",
    "    subplot_kw={\"projection\": cartopy.crs.PlateCarree()}\n",
    ")\n",
    "\n",
    "platforms.plot.scatter(\n",
    "    x=\"longitude\", y=\"latitude\", s=50,\n",
    "    ax=ax, transform=cartopy.crs.PlateCarree()\n",
    ")\n",
    "for i, platf in platforms.iterrows():\n",
    "    ax.annotate(\n",
    "        platf[\"platform\"],\n",
    "        (platf[\"longitude\"], platf[\"latitude\"]),\n",
    "        (platf[\"longitude\"] + 0.6, platf[\"latitude\"] + 0.6),\n",
    "        transform=cartopy.crs.PlateCarree(),\n",
    "        fontsize=14, fontweight=\"bold\", color=\"black\"\n",
    "    )\n",
    "\n",
    "ax.coastlines()\n",
    "\n",
    "gl = ax.gridlines(\n",
    "    crs=cartopy.crs.PlateCarree(), draw_labels=True,\n",
    "    linewidth=2, color='gray', alpha=0.5, linestyle='--'\n",
    ")\n",
    "\n",
    "gl.xformatter = LONGITUDE_FORMATTER\n",
    "gl.yformatter = LATITUDE_FORMATTER\n",
    "# gl.xlabel_style = {'size': 15, 'color': 'gray'}\n",
    "# gl.xlabel_style = {'color': 'red', 'weight': 'bold'}"
   ]
  }
 ],
 "metadata": {
  "kernelspec": {
   "display_name": "Python 3",
   "language": "python",
   "name": "python3"
  },
  "language_info": {
   "codemirror_mode": {
    "name": "ipython",
    "version": 3
   },
   "file_extension": ".py",
   "mimetype": "text/x-python",
   "name": "python",
   "nbconvert_exporter": "python",
   "pygments_lexer": "ipython3",
   "version": "3.7.6"
  }
 },
 "nbformat": 4,
 "nbformat_minor": 4
}
