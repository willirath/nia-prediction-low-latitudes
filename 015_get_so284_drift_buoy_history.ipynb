{
 "cells": [
  {
   "cell_type": "markdown",
   "metadata": {},
   "source": [
    "# Read SO284 Drift Buoy positions"
   ]
  },
  {
   "cell_type": "code",
   "execution_count": null,
   "metadata": {},
   "outputs": [],
   "source": [
    "import pandas as pd\n",
    "import datetime"
   ]
  },
  {
   "cell_type": "code",
   "execution_count": null,
   "metadata": {},
   "outputs": [],
   "source": [
    "def month_iterator(start_year, start_month, end_year, end_month):\n",
    "    year, month = start_year, start_month\n",
    "    while (year, month) <= (end_year, end_month):\n",
    "        yield year, month\n",
    "        year_diff, month_new = divmod(month, 12)\n",
    "        year += year_diff\n",
    "        month = month_new + 1\n",
    "        \n",
    "\n",
    "# test for single step\n",
    "mi = list(month_iterator(2001, 1, 2001, 1))\n",
    "assert mi[0] == (2001, 1)\n",
    "assert mi[-1] == (2001, 1)\n",
    "assert len(mi) == 1\n",
    "        \n",
    "        \n",
    "# test for full year\n",
    "mi = list(month_iterator(2001, 1, 2002, 1))\n",
    "assert mi[0] == (2001, 1)\n",
    "assert mi[-1] == (2002, 1)\n",
    "assert len(mi) == 13"
   ]
  },
  {
   "cell_type": "code",
   "execution_count": null,
   "metadata": {},
   "outputs": [],
   "source": [
    "def url_iterator(start_year=None, start_month=None, end_year=None, end_month=None):\n",
    "    for year, month in month_iterator(start_year, start_month, end_year, end_month):\n",
    "        yield (\n",
    "            f\"https://data.geomar.de/realtime/data/sbd/300034013902340/\"\n",
    "            f\"300034013902340_{year:04d}{month:02d}.pos\"\n",
    "        )"
   ]
  },
  {
   "cell_type": "code",
   "execution_count": null,
   "metadata": {},
   "outputs": [],
   "source": [
    "def read_db_file(file_name):\n",
    "    try:\n",
    "        df = pd.read_csv(\n",
    "            file_name,\n",
    "            skiprows=2,\n",
    "            delim_whitespace=True,\n",
    "        )\n",
    "\n",
    "        df[\"Time\"] = [\n",
    "            datetime.datetime(*tup)\n",
    "            for tup in zip(df[\"%YYYY\"], df[\"MM\"], df[\"DD\"], df[\"hh\"], df[\"mm\"], df[\"ss\"])\n",
    "        ]\n",
    "\n",
    "        df = df.drop(columns=[\n",
    "            '%YYYY', 'MM', 'DD', 'hh', 'mm', 'ss', \n",
    "            'BattVolt', 'MOMSN', 'ParsingDateTime',\n",
    "        ])\n",
    "\n",
    "        df = df.set_index(\"Time\")\n",
    "\n",
    "        return df\n",
    "    except:\n",
    "        return None"
   ]
  },
  {
   "cell_type": "code",
   "execution_count": null,
   "metadata": {},
   "outputs": [],
   "source": [
    "urls = url_iterator(start_year=2021, start_month=7, end_year=2021, end_month=8)"
   ]
  },
  {
   "cell_type": "code",
   "execution_count": null,
   "metadata": {},
   "outputs": [],
   "source": [
    "dfs = filter(lambda df: df is not None, map(read_db_file, urls))"
   ]
  },
  {
   "cell_type": "code",
   "execution_count": null,
   "metadata": {},
   "outputs": [],
   "source": [
    "df = pd.concat(dfs)"
   ]
  },
  {
   "cell_type": "code",
   "execution_count": null,
   "metadata": {},
   "outputs": [],
   "source": [
    "df"
   ]
  },
  {
   "cell_type": "code",
   "execution_count": null,
   "metadata": {},
   "outputs": [],
   "source": [
    "df = df.resample(\"1H\").mean()\n",
    "df"
   ]
  },
  {
   "cell_type": "code",
   "execution_count": null,
   "metadata": {},
   "outputs": [],
   "source": [
    "df.to_csv(\"tmp_buoy_history.csv\")"
   ]
  },
  {
   "cell_type": "code",
   "execution_count": null,
   "metadata": {},
   "outputs": [],
   "source": [
    "df.plot.scatter(x=\"Longitude\", y=\"Latitude\")"
   ]
  }
 ],
 "metadata": {
  "kernelspec": {
   "display_name": "Python 3",
   "language": "python",
   "name": "python3"
  },
  "language_info": {
   "codemirror_mode": {
    "name": "ipython",
    "version": 3
   },
   "file_extension": ".py",
   "mimetype": "text/x-python",
   "name": "python",
   "nbconvert_exporter": "python",
   "pygments_lexer": "ipython3",
   "version": "3.7.6"
  }
 },
 "nbformat": 4,
 "nbformat_minor": 4
}
