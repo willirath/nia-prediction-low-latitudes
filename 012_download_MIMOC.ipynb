{
 "cells": [
  {
   "cell_type": "markdown",
   "metadata": {},
   "source": [
    "# Download MIMIOC Mixed-Layer Depths\n",
    "\n",
    "We'll download [MIMOC](https://www.pmel.noaa.gov/mimoc/) data here and update variable and coordinate names to be compatible with the other data."
   ]
  },
  {
   "cell_type": "code",
   "execution_count": null,
   "metadata": {},
   "outputs": [],
   "source": [
    "# parameters\n",
    "mimoc_url = \"https://www.pmel.noaa.gov/mimoc/data/MIMOC_ML_v2.2_PT_S.zip -o mimoc/MIMOC_ML_v2.2_PT_S.zip\"\n",
    "mimoc_mld_file = \"tmp_mimoc_mld.nc\""
   ]
  },
  {
   "cell_type": "markdown",
   "metadata": {},
   "source": [
    "## Download and extract data"
   ]
  },
  {
   "cell_type": "code",
   "execution_count": null,
   "metadata": {},
   "outputs": [],
   "source": [
    "!rm -rfv mimoc/\n",
    "!mkdir -p mimoc\n",
    "!curl {mimoc_url}\n",
    "!cd mimoc && unzip MIMOC_ML_v2.2_PT_S.zip"
   ]
  },
  {
   "cell_type": "markdown",
   "metadata": {},
   "source": [
    "## Extract mixed layer depth and fix labels"
   ]
  },
  {
   "cell_type": "code",
   "execution_count": null,
   "metadata": {},
   "outputs": [],
   "source": [
    "import xarray as xr\n",
    "import numpy as np\n",
    "from pathlib import Path"
   ]
  },
  {
   "cell_type": "code",
   "execution_count": null,
   "metadata": {},
   "outputs": [],
   "source": [
    "mimoc_files = sorted(Path(\"mimoc\").glob(\"*.nc\"))\n",
    "mimoc_files"
   ]
  },
  {
   "cell_type": "code",
   "execution_count": null,
   "metadata": {},
   "outputs": [],
   "source": [
    "ds = xr.concat([xr.open_dataset(mf) for mf in mimoc_files], dim=\"month\")\n",
    "ds"
   ]
  },
  {
   "cell_type": "code",
   "execution_count": null,
   "metadata": {},
   "outputs": [],
   "source": [
    "mld = ds[\"DEPTH_MIXED_LAYER\"].rename(\"mixed_layer_depth\")\n",
    "mld = mld.rename({\"LAT\": \"lat\", \"LONG\": \"lon\"})\n",
    "mld = mld.transpose(\"month\", \"lat\", \"lon\")\n",
    "mld.coords[\"lat\"] = xr.DataArray(ds[\"LATITUDE\"].isel(month=0).data, dims=(\"lat\", ))\n",
    "mld.coords[\"lon\"] = xr.DataArray(ds[\"LONGITUDE\"].isel(month=0).data, dims=(\"lon\", ))\n",
    "mld.coords[\"month\"] = xr.DataArray(np.arange(1, 13), dims=(\"month\", ))\n",
    "mld.attrs[\"units\"] = \"m\""
   ]
  },
  {
   "cell_type": "markdown",
   "metadata": {},
   "source": [
    "## Have a look"
   ]
  },
  {
   "cell_type": "code",
   "execution_count": null,
   "metadata": {},
   "outputs": [],
   "source": [
    "mld.sel(lat=slice(-35, 35)).plot.contourf(col=\"month\", col_wrap=3);"
   ]
  },
  {
   "cell_type": "markdown",
   "metadata": {},
   "source": [
    "## Save"
   ]
  },
  {
   "cell_type": "code",
   "execution_count": null,
   "metadata": {},
   "outputs": [],
   "source": [
    "mld.to_dataset().to_netcdf(mimoc_mld_file)"
   ]
  }
 ],
 "metadata": {
  "kernelspec": {
   "display_name": "Python 3",
   "language": "python",
   "name": "python3"
  },
  "language_info": {
   "codemirror_mode": {
    "name": "ipython",
    "version": 3
   },
   "file_extension": ".py",
   "mimetype": "text/x-python",
   "name": "python",
   "nbconvert_exporter": "python",
   "pygments_lexer": "ipython3",
   "version": "3.7.6"
  }
 },
 "nbformat": 4,
 "nbformat_minor": 4
}
