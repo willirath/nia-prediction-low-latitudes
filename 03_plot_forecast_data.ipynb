{
 "cells": [
  {
   "cell_type": "markdown",
   "metadata": {},
   "source": [
    "# Plot the Near-Inertial Activity Forecast\n",
    "\n",
    "To see how we got here, check the notebooks\n",
    "- [loading the data](./01_download_GFS_data.html)\n",
    "- and [running the slab-ocean model](./02_run_slab_model.html).\n",
    "\n",
    "Details: https://willirath.github.io/nia-prediction-low-latitutdes"
   ]
  },
  {
   "cell_type": "markdown",
   "metadata": {},
   "source": [
    "## Parameters"
   ]
  },
  {
   "cell_type": "code",
   "execution_count": null,
   "metadata": {},
   "outputs": [],
   "source": [
    "# parameters\n",
    "\n",
    "GFS_zarr_store = \"tmp_GFS.zarr\"\n",
    "slab_zarr_store = \"tmp_slab.zarr\"\n",
    "\n",
    "dask_kwargs = {\"n_workers\": 1, \"threads_per_worker\": 3, \"memory_limit\": 6e9}"
   ]
  },
  {
   "cell_type": "markdown",
   "metadata": {},
   "source": [
    "## Tech preamble\n",
    "\n",
    "Import modules and spin up Dask cluster."
   ]
  },
  {
   "cell_type": "code",
   "execution_count": null,
   "metadata": {},
   "outputs": [],
   "source": [
    "import xarray as xr\n",
    "from dask.distributed import Client\n",
    "import hvplot.xarray"
   ]
  },
  {
   "cell_type": "markdown",
   "metadata": {},
   "source": [
    "The memory requirements of the integration are currently relatively high. So we'll go for one single-threaded Worker with enough memory.\n",
    "\n",
    "If we'll do this with Github Actions, there will be a total of [6GB memory](https://docs.github.com/en/actions/reference/virtual-environments-for-github-hosted-runners#supported-runners-and-hardware-resources) for all we do. So let's stay below this even in development."
   ]
  },
  {
   "cell_type": "code",
   "execution_count": null,
   "metadata": {},
   "outputs": [],
   "source": [
    "client = Client(**dask_kwargs)\n",
    "client"
   ]
  },
  {
   "cell_type": "markdown",
   "metadata": {},
   "source": [
    "## Loading the data"
   ]
  },
  {
   "cell_type": "code",
   "execution_count": null,
   "metadata": {},
   "outputs": [],
   "source": [
    "ds_GFS = xr.open_zarr(GFS_zarr_store)\n",
    "ds_slab = xr.open_zarr(slab_zarr_store)"
   ]
  },
  {
   "cell_type": "code",
   "execution_count": null,
   "metadata": {},
   "outputs": [],
   "source": [
    "import holoviews as hv"
   ]
  },
  {
   "cell_type": "code",
   "execution_count": null,
   "metadata": {},
   "outputs": [],
   "source": [
    "start_of_forecast = (~ds_GFS[\"is_forecast\"].astype(bool)).isel(lat=0, lon=0, drop=True).sum().compute().data\n",
    "start_of_forecast = ds_GFS[\"time\"].data[start_of_forecast]"
   ]
  },
  {
   "cell_type": "code",
   "execution_count": null,
   "metadata": {},
   "outputs": [],
   "source": [
    "(\n",
    "    hv.VLine(start_of_forecast)\n",
    "    * ds_GFS[\"taux\"].sel(lon=360-23, lat=12, method=\"nearest\").hvplot.line(label=\"taux\")\n",
    "    * ds_GFS[\"tauy\"].sel(lon=360-23, lat=12, method=\"nearest\").hvplot.line(label=\"tauy\")\n",
    "    + hv.VLine(start_of_forecast)\n",
    "    * ds_slab[\"u_slab\"].sel(lon=360-23, lat=12, method=\"nearest\").hvplot.line(label=\"u\")\n",
    "    * ds_slab[\"v_slab\"].sel(lon=360-23, lat=12, method=\"nearest\").hvplot.line(label=\"v\")\n",
    "    * ds_slab[\"umag_slab\"].sel(lon=360-23, lat=12, method=\"nearest\").hvplot.line(label=\"umag\")\n",
    ").cols(1)"
   ]
  },
  {
   "cell_type": "code",
   "execution_count": null,
   "metadata": {},
   "outputs": [],
   "source": [
    "import numpy as np"
   ]
  },
  {
   "cell_type": "code",
   "execution_count": null,
   "metadata": {},
   "outputs": [],
   "source": [
    "ds_slab[\"umag_slab\"].max(\n",
    "    \"time\"\n",
    ").hvplot.contourf(\n",
    "    levels=list(np.linspace(0, 2, 20))\n",
    ")"
   ]
  },
  {
   "cell_type": "code",
   "execution_count": null,
   "metadata": {},
   "outputs": [],
   "source": [
    "!echo \"Finished: $(date -Ins)\""
   ]
  },
  {
   "cell_type": "markdown",
   "metadata": {},
   "source": [
    "---\n",
    "See https://github.com/willirath/nia-prediction-low-latitutdes for details."
   ]
  }
 ],
 "metadata": {
  "kernelspec": {
   "display_name": "Python 3",
   "language": "python",
   "name": "python3"
  },
  "language_info": {
   "codemirror_mode": {
    "name": "ipython",
    "version": 3
   },
   "file_extension": ".py",
   "mimetype": "text/x-python",
   "name": "python",
   "nbconvert_exporter": "python",
   "pygments_lexer": "ipython3",
   "version": "3.7.6"
  }
 },
 "nbformat": 4,
 "nbformat_minor": 4
}
