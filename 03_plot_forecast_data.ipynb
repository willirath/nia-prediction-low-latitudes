{
 "cells": [
  {
   "cell_type": "markdown",
   "metadata": {},
   "source": [
    "# Plot the Near-Inertial Activity Forecast\n",
    "\n",
    "To see how we got here, check the notebooks about [loading the data](./01_download_GFS_data.html), and about [running the slab-ocean model](./02_run_slab_model.html).\n",
    "\n",
    "Details: https://willirath.github.io/nia-prediction-low-latitutdes"
   ]
  },
  {
   "cell_type": "markdown",
   "metadata": {},
   "source": [
    "## Parameters"
   ]
  },
  {
   "cell_type": "code",
   "execution_count": null,
   "metadata": {},
   "outputs": [],
   "source": [
    "# parameters\n",
    "\n",
    "GFS_zarr_store = \"tmp_GFS.zarr\"\n",
    "slab_zarr_store = \"tmp_slab.zarr\"\n",
    "\n",
    "dask_kwargs = {\"n_workers\": 1, \"threads_per_worker\": 4, \"memory_limit\": 6e9}\n",
    "\n",
    "buoy_locations = {\n",
    "    \"20N,38W\": {\"lat\": 20.0, \"lon\": -38.0},\n",
    "    \"15N,38W\": {\"lat\": 15.0, \"lon\": -38.0},\n",
    "    \"20.5N,23W\": {\"lat\": 20.5, \"lon\": -23.0},\n",
    "    \"11.5N,23W\": {\"lat\": 11.5, \"lon\": -23.0},\n",
    "    \"6S,10W\": {\"lat\": -6.0, \"lon\": -10.0},\n",
    "    \"10S,10W\": {\"lat\": -10.0 ,\"lon\": -10.0},\n",
    "}"
   ]
  },
  {
   "cell_type": "markdown",
   "metadata": {},
   "source": [
    "## Tech preamble\n",
    "\n",
    "Import modules and spin up Dask cluster."
   ]
  },
  {
   "cell_type": "code",
   "execution_count": null,
   "metadata": {},
   "outputs": [],
   "source": [
    "import numpy as np\n",
    "import xarray as xr\n",
    "from dask.distributed import Client\n",
    "import hvplot.xarray\n",
    "import cmocean\n",
    "import pandas as pd\n",
    "\n",
    "import holoviews as hv"
   ]
  },
  {
   "cell_type": "code",
   "execution_count": null,
   "metadata": {},
   "outputs": [],
   "source": [
    "client = Client(**dask_kwargs)\n",
    "client"
   ]
  },
  {
   "cell_type": "markdown",
   "metadata": {},
   "source": [
    "## Load the data"
   ]
  },
  {
   "cell_type": "code",
   "execution_count": null,
   "metadata": {},
   "outputs": [],
   "source": [
    "ds_GFS = xr.open_zarr(GFS_zarr_store)\n",
    "ds_slab = xr.open_zarr(slab_zarr_store)"
   ]
  },
  {
   "cell_type": "markdown",
   "metadata": {},
   "source": [
    "## Find start of forecast period"
   ]
  },
  {
   "cell_type": "code",
   "execution_count": null,
   "metadata": {},
   "outputs": [],
   "source": [
    "start_of_forecast = (~ds_GFS[\"is_forecast\"].astype(bool)).sum().compute().data\n",
    "start_of_forecast = ds_GFS[\"time\"].data[start_of_forecast]\n",
    "print(start_of_forecast)"
   ]
  },
  {
   "cell_type": "markdown",
   "metadata": {},
   "source": [
    "## Plot for buoy locations"
   ]
  },
  {
   "cell_type": "code",
   "execution_count": null,
   "metadata": {},
   "outputs": [],
   "source": [
    "for name, location in buoy_locations.items():\n",
    "    buoy_ds = ds_slab.sel(\n",
    "        lat=location[\"lat\"], lon=(360+location[\"lon\"]) % 360, method=\"nearest\"\n",
    "    )\n",
    "    buoy_ds[\"taux\"] = ds_GFS[\"taux\"].sel(\n",
    "        lat=location[\"lat\"], lon=(360+location[\"lon\"]) % 360, method=\"nearest\"\n",
    "    )\n",
    "    buoy_ds[\"tauy\"] = ds_GFS[\"tauy\"].sel(\n",
    "        lat=location[\"lat\"], lon=(360+location[\"lon\"]) % 360, method=\"nearest\"\n",
    "    )\n",
    "    \n",
    "    display(\n",
    "        (\n",
    "            buoy_ds[\"taux\"].hvplot.line(label=\"taux\", width=600, height=150)\n",
    "            * buoy_ds[\"tauy\"].hvplot.line(label=\"tauy\")\n",
    "            + buoy_ds[\"u_slab\"].hvplot.line(label=\"u\", width=600, height=150)\n",
    "            * buoy_ds[\"v_slab\"].hvplot.line(label=\"v\")\n",
    "            * buoy_ds[\"umag_slab\"].hvplot.line(label=\"umag\")\n",
    "            * hv.VLine(start_of_forecast)\n",
    "        ).cols(1).opts(title=name)\n",
    "    )"
   ]
  },
  {
   "cell_type": "markdown",
   "metadata": {},
   "source": [
    "## Plot overview"
   ]
  },
  {
   "cell_type": "code",
   "execution_count": null,
   "metadata": {},
   "outputs": [],
   "source": [
    "hvplot.xarray.contourf?"
   ]
  },
  {
   "cell_type": "code",
   "execution_count": null,
   "metadata": {},
   "outputs": [],
   "source": [
    "slab_umag_max = ds_slab[\"umag_slab\"].where(ds_GFS[\"is_forecast\"]).max(\"time\")\n",
    "slab_umag_max.hvplot.contourf(\n",
    "    levels=list(np.linspace(0, 3, 41)),\n",
    "    cmap=cmocean.cm.speed,\n",
    "    width=800, height=500\n",
    ")"
   ]
  },
  {
   "cell_type": "code",
   "execution_count": null,
   "metadata": {},
   "outputs": [],
   "source": [
    "SLP_mean_analysis = ds_GFS[\"SLP\"].where(~ds_GFS[\"is_forecast\"]).mean(\"time\")\n",
    "SLP_anomaly = ds_GFS[\"SLP\"] - SLP_mean_analysis"
   ]
  },
  {
   "cell_type": "code",
   "execution_count": null,
   "metadata": {},
   "outputs": [],
   "source": [
    "display(\n",
    "    SLP_mean_analysis.hvplot.contourf(\n",
    "        levels=list(np.linspace(97_000, 104_000, 51)),\n",
    "        cmap=cmocean.cm.thermal,\n",
    "        width=800, height=300\n",
    "    )\n",
    ")"
   ]
  },
  {
   "cell_type": "code",
   "execution_count": null,
   "metadata": {},
   "outputs": [],
   "source": [
    "plot_time = [start_of_forecast + np.timedelta64(int(24 * 3600 * 1e9) * n, \"ns\") for n in range(0, 4)]\n",
    "\n",
    "display(\n",
    "    (\n",
    "        SLP_anomaly.sel(time=plot_time[0]).hvplot.contourf(\n",
    "            levels=list(np.linspace(-1000, 1000, 51)),\n",
    "            cmap=cmocean.cm.balance,\n",
    "            width=800, height=300,\n",
    "            label=f\"SLP anomaly, {plot_time[0]}\"\n",
    "        )\n",
    "        + SLP_anomaly.sel(time=plot_time[1]).hvplot.contourf(\n",
    "            levels=list(np.linspace(-1000, 1000, 51)),\n",
    "            cmap=cmocean.cm.balance,\n",
    "            width=800, height=300,\n",
    "            label=f\"SLP anomaly, {plot_time[1]}\"\n",
    "        )\n",
    "        + SLP_anomaly.sel(time=plot_time[2]).hvplot.contourf(\n",
    "            levels=list(np.linspace(-1000, 1000, 51)),\n",
    "            cmap=cmocean.cm.balance,\n",
    "            width=800, height=300,\n",
    "            label=f\"SLP anomaly, {plot_time[2]}\"\n",
    "        )\n",
    "        + SLP_anomaly.sel(time=plot_time[3]).hvplot.contourf(\n",
    "            levels=list(np.linspace(-1000, 1000, 51)),\n",
    "            cmap=cmocean.cm.balance,\n",
    "            width=800, height=300,\n",
    "            label=f\"SLP anomaly, {plot_time[3]}\"\n",
    "        )\n",
    "    ).cols(1)\n",
    ")"
   ]
  },
  {
   "cell_type": "markdown",
   "metadata": {},
   "source": [
    "---"
   ]
  },
  {
   "cell_type": "code",
   "execution_count": null,
   "metadata": {},
   "outputs": [],
   "source": [
    "!echo \"Finished: $(date -Ins)\""
   ]
  },
  {
   "cell_type": "markdown",
   "metadata": {},
   "source": [
    "---\n",
    "See https://github.com/willirath/nia-prediction-low-latitutdes for details."
   ]
  }
 ],
 "metadata": {
  "kernelspec": {
   "display_name": "Python 3",
   "language": "python",
   "name": "python3"
  },
  "language_info": {
   "codemirror_mode": {
    "name": "ipython",
    "version": 3
   },
   "file_extension": ".py",
   "mimetype": "text/x-python",
   "name": "python",
   "nbconvert_exporter": "python",
   "pygments_lexer": "ipython3",
   "version": "3.7.6"
  }
 },
 "nbformat": 4,
 "nbformat_minor": 4
}
