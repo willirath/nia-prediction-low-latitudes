{
 "cells": [
  {
   "cell_type": "markdown",
   "metadata": {},
   "source": [
    "# Plot the Near-Inertial Activity Forecast\n",
    "\n",
    "To see how we got here, check the notebooks about [loading the data](./01_download_GFS_data.html), and about [running the slab-ocean model](./02_run_slab_model.html).\n",
    "\n",
    "Details: https://willirath.github.io/nia-prediction-low-latitutdes"
   ]
  },
  {
   "cell_type": "markdown",
   "metadata": {},
   "source": [
    "## Parameters"
   ]
  },
  {
   "cell_type": "code",
   "execution_count": null,
   "metadata": {},
   "outputs": [],
   "source": [
    "# parameters\n",
    "\n",
    "GFS_zarr_store = \"tmp_GFS.zarr\"\n",
    "slab_zarr_store = \"tmp_slab.zarr\"\n",
    "\n",
    "dask_kwargs = {\"n_workers\": 1, \"threads_per_worker\": 4, \"memory_limit\": 6e9}\n",
    "\n",
    "buoy_locations = {\n",
    "    \"20N,38W\": {\"lat\": 20.0, \"lon\": -38.0},\n",
    "    \"15N,38W\": {\"lat\": 15.0, \"lon\": -38.0},\n",
    "    \"20.5N,23W\": {\"lat\": 20.5, \"lon\": -23.0},\n",
    "    \"11.5N,23W\": {\"lat\": 11.5, \"lon\": -23.0},\n",
    "    \"6S,10W\": {\"lat\": -6.0, \"lon\": -10.0},\n",
    "    \"10S,10W\": {\"lat\": -10.0 ,\"lon\": -10.0},\n",
    "}"
   ]
  },
  {
   "cell_type": "markdown",
   "metadata": {},
   "source": [
    "## Tech preamble\n",
    "\n",
    "Import modules and spin up Dask cluster."
   ]
  },
  {
   "cell_type": "code",
   "execution_count": null,
   "metadata": {},
   "outputs": [],
   "source": [
    "import numpy as np\n",
    "import xarray as xr\n",
    "from dask.distributed import Client\n",
    "import hvplot.xarray\n",
    "import cmocean\n",
    "import pandas as pd\n",
    "import cartopy.crs as ccrs\n",
    "\n",
    "\n",
    "import holoviews as hv\n",
    "\n",
    "from functools import reduce\n",
    "from operator import add"
   ]
  },
  {
   "cell_type": "code",
   "execution_count": null,
   "metadata": {},
   "outputs": [],
   "source": [
    "client = Client(**dask_kwargs)\n",
    "client"
   ]
  },
  {
   "cell_type": "markdown",
   "metadata": {},
   "source": [
    "## Load the data"
   ]
  },
  {
   "cell_type": "code",
   "execution_count": null,
   "metadata": {},
   "outputs": [],
   "source": [
    "ds_GFS = xr.open_zarr(GFS_zarr_store)\n",
    "ds_slab = xr.open_zarr(slab_zarr_store)"
   ]
  },
  {
   "cell_type": "markdown",
   "metadata": {},
   "source": [
    "## Find start of forecast period"
   ]
  },
  {
   "cell_type": "code",
   "execution_count": null,
   "metadata": {},
   "outputs": [],
   "source": [
    "start_of_forecast = (~ds_GFS[\"is_forecast\"].astype(bool)).sum().compute().data\n",
    "start_of_forecast = ds_GFS[\"time\"].data[start_of_forecast]\n",
    "print(start_of_forecast)"
   ]
  },
  {
   "cell_type": "markdown",
   "metadata": {},
   "source": [
    "## Remove steady state\n",
    "\n",
    "**FIXME:** This should have been done in the slab-model run?"
   ]
  },
  {
   "cell_type": "code",
   "execution_count": null,
   "metadata": {},
   "outputs": [],
   "source": [
    "ds_slab[\"u_slab\"] -= ds_slab[\"u_slab\"].mean(\"time\")\n",
    "ds_slab[\"v_slab\"] -= ds_slab[\"v_slab\"].mean(\"time\")\n",
    "ds_slab[\"umag_slab\"] = (ds_slab[\"u_slab\"] ** 2 + ds_slab[\"v_slab\"] ** 2) ** 0.5"
   ]
  },
  {
   "cell_type": "markdown",
   "metadata": {},
   "source": [
    "## Plot for buoy locations"
   ]
  },
  {
   "cell_type": "code",
   "execution_count": null,
   "metadata": {},
   "outputs": [],
   "source": [
    "plots = []\n",
    "\n",
    "for name, location in buoy_locations.items():\n",
    "    buoy_ds = ds_slab.sel(\n",
    "        lat=location[\"lat\"], lon=(360+location[\"lon\"]) % 360, method=\"nearest\"\n",
    "    )\n",
    "    buoy_ds[\"taux\"] = ds_GFS[\"taux\"].sel(\n",
    "        lat=location[\"lat\"], lon=(360+location[\"lon\"]) % 360, method=\"nearest\"\n",
    "    )\n",
    "    buoy_ds[\"tauy\"] = ds_GFS[\"tauy\"].sel(\n",
    "        lat=location[\"lat\"], lon=(360+location[\"lon\"]) % 360, method=\"nearest\"\n",
    "    )\n",
    "    \n",
    "    plots.append(\n",
    "        (\n",
    "            (\n",
    "                buoy_ds[\"taux\"].hvplot.line(label=\"taux\", width=400, height=200)\n",
    "                * buoy_ds[\"tauy\"].hvplot.line(label=\"tauy\")\n",
    "            ).opts(legend_cols=True, title=name)\n",
    "            + (\n",
    "                buoy_ds[\"u_slab\"].hvplot.line(label=\"u\", width=400, height=200)\n",
    "                * buoy_ds[\"v_slab\"].hvplot.line(label=\"v\")\n",
    "                * buoy_ds[\"umag_slab\"].hvplot.line(label=\"umag\")\n",
    "                * hv.VLine(start_of_forecast)\n",
    "            ).opts(legend_cols=True, title=name)\n",
    "        )\n",
    "    )\n",
    "\n",
    "reduce(add, plots).cols(2)"
   ]
  },
  {
   "cell_type": "markdown",
   "metadata": {},
   "source": [
    "## Plot overview"
   ]
  },
  {
   "cell_type": "code",
   "execution_count": null,
   "metadata": {},
   "outputs": [],
   "source": [
    "slab_umag_max = ds_slab[\"umag_slab\"].where(ds_GFS[\"is_forecast\"]).max(\"time\")\n",
    "slab_umag_max.hvplot.quadmesh(\n",
    "    x=\"lon\", y=\"lat\", z=\"umag_slab\",\n",
    "    clim=(0, 2),\n",
    "    cmap=cmocean.cm.speed,\n",
    "    width=800, height=500,\n",
    "    hover=False,\n",
    "    geo=True, coastline=True,\n",
    "    crs=ccrs.PlateCarree(), projection=ccrs.PlateCarree()\n",
    ")"
   ]
  },
  {
   "cell_type": "code",
   "execution_count": null,
   "metadata": {},
   "outputs": [],
   "source": [
    "SLP_mean_analysis = ds_GFS[\"SLP\"].where(~ds_GFS[\"is_forecast\"]).mean(\"time\")\n",
    "SLP_anomaly = ds_GFS[\"SLP\"] - SLP_mean_analysis"
   ]
  },
  {
   "cell_type": "code",
   "execution_count": null,
   "metadata": {},
   "outputs": [],
   "source": [
    "display(\n",
    "    SLP_mean_analysis.hvplot.quadmesh(\n",
    "        clim=(97_000, 103_000),\n",
    "        cmap=cmocean.cm.thermal,\n",
    "        width=800, height=300,\n",
    "        geo=True, coastline=True,\n",
    "        crs=ccrs.PlateCarree(), projection=ccrs.PlateCarree(),\n",
    "        hover=False\n",
    "    )\n",
    ")"
   ]
  },
  {
   "cell_type": "code",
   "execution_count": null,
   "metadata": {},
   "outputs": [],
   "source": [
    "plot_times = [\n",
    "    (start_of_forecast + n * np.timedelta64(24, \"h\"))\n",
    "    for n in range(0, 4)\n",
    "]\n",
    "\n",
    "plots = []\n",
    "for plot_time in plot_times:\n",
    "    plots.append(\n",
    "        SLP_anomaly.sel(time=plot_time, method=\"nearest\").hvplot.quadmesh(\n",
    "            clim=(-1000, 1000),\n",
    "            cmap=cmocean.cm.balance,\n",
    "            width=800, height=300,\n",
    "            geo=True, coastline=True,\n",
    "            crs=ccrs.PlateCarree(), projection=ccrs.PlateCarree(),\n",
    "            label=f\"SLP anomaly, {plot_time}\",\n",
    "            hover=False\n",
    "        )\n",
    "    )\n",
    "    \n",
    "reduce(add, plots).cols(2)"
   ]
  },
  {
   "cell_type": "markdown",
   "metadata": {},
   "source": [
    "---"
   ]
  },
  {
   "cell_type": "code",
   "execution_count": null,
   "metadata": {},
   "outputs": [],
   "source": [
    "!echo \"Finished: $(date -Ins)\""
   ]
  },
  {
   "cell_type": "markdown",
   "metadata": {},
   "source": [
    "---\n",
    "See https://github.com/willirath/nia-prediction-low-latitutdes for details."
   ]
  }
 ],
 "metadata": {
  "kernelspec": {
   "display_name": "Python 3",
   "language": "python",
   "name": "python3"
  },
  "language_info": {
   "codemirror_mode": {
    "name": "ipython",
    "version": 3
   },
   "file_extension": ".py",
   "mimetype": "text/x-python",
   "name": "python",
   "nbconvert_exporter": "python",
   "pygments_lexer": "ipython3",
   "version": "3.7.6"
  }
 },
 "nbformat": 4,
 "nbformat_minor": 4
}
